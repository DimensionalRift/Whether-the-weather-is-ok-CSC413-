{
 "cells": [
  {
   "cell_type": "code",
   "execution_count": 11,
   "metadata": {},
   "outputs": [],
   "source": [
    "import torch\n",
    "import torch.nn as nn\n",
    "import torch.optim as optim\n",
    "from torch.utils.data import TensorDataset, DataLoader\n",
    "import optuna\n",
    "import numpy as np\n",
    "import matplotlib.pyplot as plt\n",
    "import dataProcess\n",
    "\n",
    "from datetime import datetime"
   ]
  },
  {
   "cell_type": "code",
   "execution_count": 2,
   "metadata": {},
   "outputs": [],
   "source": [
    "hourly = '.\\\\Raw data\\\\ten_year\\\\weatherstats_toronto_hourly.csv'\n",
    "daily = '.\\\\Raw data\\\\ten_year\\\\weatherstats_toronto_daily.csv'\n",
    "start = datetime(2014, 4, 16).date()\n",
    "end = datetime(2024, 4, 10).date()\n",
    "data = dataProcess.generateDataNoLoader(hourly, daily, start, end)\n",
    "train_data = data['train']\n",
    "val_data = data['validation']\n",
    "test_data = data['test']"
   ]
  },
  {
   "cell_type": "code",
   "execution_count": 3,
   "metadata": {},
   "outputs": [],
   "source": [
    "class FlatWeatherMLP(nn.Module):\n",
    "    def __init__(self, input_size=312, hidden_size=500):\n",
    "        super(FlatWeatherMLP, self).__init__()\n",
    "        self.inputLayer = nn.Linear(input_size, hidden_size)\n",
    "        self.hiddenLayer = nn.Linear(hidden_size, hidden_size)\n",
    "        self.outputLayer = nn.Linear(hidden_size, 1)\n",
    "        self.relu = nn.ReLU()\n",
    "    \n",
    "    def forward(self, x):\n",
    "        x = x.to(torch.float32)\n",
    "        x = torch.flatten(x, start_dim=1)\n",
    "        # print(x.shape)\n",
    "        x = self.inputLayer(x)\n",
    "        x = self.relu(x)\n",
    "        # print(f'fc1: {x}')\n",
    "        x = self.hiddenLayer(x)\n",
    "        x = self.relu(x)\n",
    "        # print(f'fc2: {x}')\n",
    "        x = self.outputLayer(x)\n",
    "        # print(f'fc3: {x}')\n",
    "        # print(x)\n",
    "        x = torch.squeeze(x)\n",
    "        return x"
   ]
  },
  {
   "cell_type": "code",
   "execution_count": 4,
   "metadata": {},
   "outputs": [],
   "source": [
    "# for d, target in data['train']:\n",
    "#     print(d.dtype)\n",
    "#     print(target.shape)\n",
    "def accuracy(model, data):\n",
    "    totalDiff = 0.0\n",
    "    count = 0\n",
    "    loader = DataLoader(data, batch_size=100)\n",
    "    for data, target in loader:\n",
    "        count = count + 1\n",
    "        z = model(data)\n",
    "        # print(z)\n",
    "        totalDiff += torch.sum(torch.abs(target - z))\n",
    "\n",
    "    print(target, z)\n",
    "    return(totalDiff / count)\n",
    "\n",
    "# accuracy(FlatWeatherMLP(), data['train'])\n",
    "        \n"
   ]
  },
  {
   "cell_type": "code",
   "execution_count": 22,
   "metadata": {},
   "outputs": [
    {
     "name": "stdout",
     "output_type": "stream",
     "text": [
      "Epoch [1/50], Training Loss: 206621.48416139453\n",
      "Epoch [1/50], Validation Loss: 58.75657249485842\n"
     ]
    },
    {
     "name": "stderr",
     "output_type": "stream",
     "text": [
      "c:\\Users\\Blake\\AppData\\Local\\Programs\\Python\\Python312\\Lib\\site-packages\\torch\\nn\\modules\\loss.py:535: UserWarning: Using a target size (torch.Size([1])) that is different to the input size (torch.Size([])). This will likely lead to incorrect results due to broadcasting. Please ensure they have the same size.\n",
      "  return F.mse_loss(input, target, reduction=self.reduction)\n"
     ]
    },
    {
     "name": "stdout",
     "output_type": "stream",
     "text": [
      "Epoch [2/50], Training Loss: 181.87400362129037\n",
      "Epoch [2/50], Validation Loss: 121.12791755781745\n",
      "Epoch [3/50], Training Loss: 116.25881051797471\n",
      "Epoch [3/50], Validation Loss: 39.152386341226816\n",
      "Epoch [4/50], Training Loss: 86.7115776220225\n",
      "Epoch [4/50], Validation Loss: 50.13700468529205\n",
      "Epoch [5/50], Training Loss: 85.39751760421261\n",
      "Epoch [5/50], Validation Loss: 29.109757304740942\n",
      "Epoch [6/50], Training Loss: 78.77022468988797\n",
      "Epoch [6/50], Validation Loss: 31.09912934720791\n",
      "Epoch [7/50], Training Loss: 77.70994340659287\n",
      "Epoch [7/50], Validation Loss: 34.96623302055394\n",
      "Epoch [8/50], Training Loss: 66.77502550397601\n",
      "Epoch [8/50], Validation Loss: 36.017357792173115\n",
      "Epoch [9/50], Training Loss: 50.96859784939322\n",
      "Epoch [9/50], Validation Loss: 27.321239042941325\n",
      "Epoch [10/50], Training Loss: 47.28140971627653\n",
      "Epoch [10/50], Validation Loss: 40.21550493416149\n",
      "Epoch [11/50], Training Loss: 45.77997938498923\n",
      "Epoch [11/50], Validation Loss: 58.08850899270053\n",
      "Epoch [12/50], Training Loss: 42.74805381990248\n",
      "Epoch [12/50], Validation Loss: 42.58880735652238\n",
      "Epoch [13/50], Training Loss: 57.5964561915068\n",
      "Epoch [13/50], Validation Loss: 30.443110117714525\n",
      "Epoch [14/50], Training Loss: 64.89875665567988\n",
      "Epoch [14/50], Validation Loss: 77.66450628157585\n",
      "Epoch [15/50], Training Loss: 62.832602509705154\n",
      "Epoch [15/50], Validation Loss: 197.48951306321104\n",
      "Epoch [16/50], Training Loss: 98.9130691932643\n",
      "Epoch [16/50], Validation Loss: 45.06042481237842\n",
      "Epoch [17/50], Training Loss: 73.1924471997995\n",
      "Epoch [17/50], Validation Loss: 46.2813283595072\n",
      "Epoch [18/50], Training Loss: 43.80757301963419\n",
      "Epoch [18/50], Validation Loss: 39.74647167970508\n",
      "Epoch [19/50], Training Loss: 32.84801424153939\n",
      "Epoch [19/50], Validation Loss: 34.30140877264436\n",
      "Epoch [20/50], Training Loss: 40.04124973226802\n",
      "Epoch [20/50], Validation Loss: 37.250035407905756\n",
      "Epoch [21/50], Training Loss: 37.92779899302715\n",
      "Epoch [21/50], Validation Loss: 61.601684482416246\n",
      "Epoch [22/50], Training Loss: 42.578070299965994\n",
      "Epoch [22/50], Validation Loss: 34.95455123971684\n",
      "Epoch [23/50], Training Loss: 119.62697306426439\n",
      "Epoch [23/50], Validation Loss: 97.44772331835487\n",
      "Epoch [24/50], Training Loss: 49.98813206589167\n",
      "Epoch [24/50], Validation Loss: 59.20582906661495\n",
      "Epoch [25/50], Training Loss: 54.033059945304274\n",
      "Epoch [25/50], Validation Loss: 45.77561412758541\n",
      "Epoch [26/50], Training Loss: 44.77514175116192\n",
      "Epoch [26/50], Validation Loss: 43.49182183841406\n",
      "Epoch [27/50], Training Loss: 42.413438089432255\n",
      "Epoch [27/50], Validation Loss: 46.92420768737793\n",
      "Epoch [28/50], Training Loss: 46.59287534880748\n",
      "Epoch [28/50], Validation Loss: 39.76155736808953\n",
      "Epoch [29/50], Training Loss: 41.9380092049524\n",
      "Epoch [29/50], Validation Loss: 37.20935400949645\n",
      "Epoch [30/50], Training Loss: 35.713392435130984\n",
      "Epoch [30/50], Validation Loss: 36.41258028795093\n",
      "Epoch [31/50], Training Loss: 49.999324644765544\n",
      "Epoch [31/50], Validation Loss: 51.25144288726666\n",
      "Epoch [32/50], Training Loss: 34.26523801917854\n",
      "Epoch [32/50], Validation Loss: 38.502233298692836\n",
      "Epoch [33/50], Training Loss: 38.786448472106514\n",
      "Epoch [33/50], Validation Loss: 38.88929229507798\n",
      "Epoch [34/50], Training Loss: 28.109106610996932\n",
      "Epoch [34/50], Validation Loss: 38.82594443466257\n",
      "Epoch [35/50], Training Loss: 38.32370668951817\n",
      "Epoch [35/50], Validation Loss: 29.05995249473554\n",
      "Epoch [36/50], Training Loss: 31.171432603888796\n",
      "Epoch [36/50], Validation Loss: 31.468658420896748\n",
      "Epoch [37/50], Training Loss: 28.65595315238847\n",
      "Epoch [37/50], Validation Loss: 30.912031472553306\n",
      "Epoch [38/50], Training Loss: 25.863317944487118\n",
      "Epoch [38/50], Validation Loss: 24.774758154346095\n",
      "Epoch [39/50], Training Loss: 28.150665146963938\n",
      "Epoch [39/50], Validation Loss: 27.243213047080324\n",
      "Epoch [40/50], Training Loss: 30.744200607598653\n",
      "Epoch [40/50], Validation Loss: 20.96813710603846\n",
      "Epoch [41/50], Training Loss: 21.981250486066266\n",
      "Epoch [41/50], Validation Loss: 29.06151300709918\n",
      "Epoch [42/50], Training Loss: 44.159634105620846\n",
      "Epoch [42/50], Validation Loss: 25.20730127476602\n",
      "Epoch [43/50], Training Loss: 20.09058450993305\n",
      "Epoch [43/50], Validation Loss: 28.107087084774598\n",
      "Epoch [44/50], Training Loss: 19.476585752403683\n",
      "Epoch [44/50], Validation Loss: 28.33490230026333\n",
      "Epoch [45/50], Training Loss: 18.63580149164947\n",
      "Epoch [45/50], Validation Loss: 26.537584889319636\n",
      "Epoch [46/50], Training Loss: 19.282056937019945\n",
      "Epoch [46/50], Validation Loss: 30.1958718047164\n",
      "Epoch [47/50], Training Loss: 17.427507428529626\n",
      "Epoch [47/50], Validation Loss: 23.927587432246053\n",
      "Epoch [48/50], Training Loss: 19.124889277642772\n",
      "Epoch [48/50], Validation Loss: 34.74413925821331\n",
      "Epoch [49/50], Training Loss: 20.245740249959006\n",
      "Epoch [49/50], Validation Loss: 29.485624199089365\n",
      "Epoch [50/50], Training Loss: 17.074259417397634\n",
      "Epoch [50/50], Validation Loss: 29.911536675993748\n",
      "tensor(17.4325)\n",
      "tensor([ 7.3500,  7.7000,  5.3500,  6.6000, 13.8000, 10.6000, 11.3500, 11.7500,\n",
      "        11.0500, 10.3000,  8.8500,  8.5500,  6.5500,  7.1000,  2.1900,  1.7500,\n",
      "         2.8400,  1.6500,  6.0500,  4.1500,  1.9900]) tensor([11.2976,  9.6485,  9.0838, 16.7907, 15.9264, 15.2086,  8.5140, 14.5446,\n",
      "        13.2696, 12.8371,  9.2419, 10.5375, 10.7740,  6.9025,  4.3218,  7.2178,\n",
      "         7.8614, 12.1729,  8.7899,  6.6912, 10.4580],\n",
      "       grad_fn=<SqueezeBackward0>)\n"
     ]
    },
    {
     "data": {
      "text/plain": [
       "tensor(468.1586, grad_fn=<DivBackward0>)"
      ]
     },
     "execution_count": 26,
     "metadata": {},
     "output_type": "execute_result"
    }
   ],
   "source": [
    "\n",
    "def train_model(model, trainData, valData, lr=.002, batchSize=10, epochs=100, v=True, plot=False):\n",
    "    loader = DataLoader(trainData, batch_size=batchSize, shuffle=True)\n",
    "    vloader = DataLoader(valData, batch_size=batchSize, shuffle=True)\n",
    "    criterion = nn.MSELoss()\n",
    "    optimizer = optim.Adam(model.parameters(), lr=lr)\n",
    "    model.train()\n",
    "    train_loss = []\n",
    "    val_loss = []\n",
    "    train_acc = []\n",
    "    val_acc = []\n",
    "    for epoch in range(epochs):\n",
    "        totalLoss = 0\n",
    "        c = 0\n",
    "        for d, t in loader:\n",
    "            t = torch.squeeze(t)\n",
    "            c += 1\n",
    "            optimizer.zero_grad()\n",
    "            z = model(d)\n",
    "            z = torch.squeeze(z)\n",
    "            loss = criterion(z, t)\n",
    "            loss.backward()\n",
    "            optimizer.step()\n",
    "            totalLoss += loss.item()\n",
    "        train_loss.append(np.log(totalLoss))\n",
    "        train_acc.append(accuracy(model, train_data).item())\n",
    "        if v:\n",
    "            print(f'Epoch [{epoch+1}/{epochs}], Training Loss: {totalLoss / len(loader)}')\n",
    "        model.eval()\n",
    "        totalLossVal = 0\n",
    "        with torch.no_grad():\n",
    "            for d, t in vloader:\n",
    "                z = model(d)\n",
    "                loss = criterion(z, t)\n",
    "                totalLossVal += loss.item()\n",
    "        val_acc.append(accuracy(model, val_data).item())\n",
    "        val_loss.append(np.log(totalLossVal))\n",
    "        if v:\n",
    "            print(f'Epoch [{epoch+1}/{epochs}], Validation Loss: {totalLossVal / len(loader)}')\n",
    "    if plot:\n",
    "        plt.figure()\n",
    "        plt.plot(range(epochs), train_loss)\n",
    "        plt.plot(range(epochs), val_loss)\n",
    "        plt.title(\"MSELoss Over Epochs\")\n",
    "        plt.xlabel(\"Epochs\")\n",
    "        plt.ylabel(\"Loss (log scale)\")\n",
    "        plt.legend(['Train', \"Validation\"])\n",
    "\n",
    "        plt.figure()\n",
    "        plt.plot(range(epochs), train_acc)\n",
    "        plt.plot(range(epochs), val_acc)\n",
    "        plt.title(\"Average Temperature Prediction Inaccuracies\")\n",
    "        plt.xlabel(\"Epochs\")\n",
    "        plt.ylabel(\"Average Temperature Inaccuracy (Celcius)\")\n",
    "        plt.legend(['Train', \"Validation\"])\n",
    "\n",
    "    print(accuracy(model, data['validation']))\n",
    "# model = FlatWeatherMLP()\n",
    "# train_model(model, train_data, val_data)\n",
    "# accuracy(model, data['validation'])"
   ]
  },
  {
   "cell_type": "code",
   "execution_count": null,
   "metadata": {},
   "outputs": [
    {
     "name": "stderr",
     "output_type": "stream",
     "text": [
      "[I 2024-04-17 15:24:12,182] A new study created in memory with name: no-name-604c2f91-8ea0-4ada-a32d-6a1bdfbc3d49\n",
      "[I 2024-04-17 15:24:25,552] Trial 0 finished with value: 84.33026885986328 and parameters: {'lr': 0.027083513940992676, 'batchSize': 30, 'epochs': 35, 'hidden_size': 247}. Best is trial 0 with value: 84.33026885986328.\n"
     ]
    },
    {
     "name": "stdout",
     "output_type": "stream",
     "text": [
      "tensor(84.3303, grad_fn=<DivBackward0>)\n"
     ]
    },
    {
     "name": "stderr",
     "output_type": "stream",
     "text": [
      "[I 2024-04-17 15:24:54,723] Trial 1 finished with value: 3.6715922355651855 and parameters: {'lr': 0.008155626482340653, 'batchSize': 31, 'epochs': 78, 'hidden_size': 218}. Best is trial 1 with value: 3.6715922355651855.\n"
     ]
    },
    {
     "name": "stdout",
     "output_type": "stream",
     "text": [
      "tensor(3.6716, grad_fn=<DivBackward0>)\n"
     ]
    },
    {
     "name": "stderr",
     "output_type": "stream",
     "text": [
      "[I 2024-04-17 15:25:16,151] Trial 2 finished with value: 9.835444450378418 and parameters: {'lr': 0.01470019564482726, 'batchSize': 11, 'epochs': 81, 'hidden_size': 37}. Best is trial 1 with value: 3.6715922355651855.\n"
     ]
    },
    {
     "name": "stdout",
     "output_type": "stream",
     "text": [
      "tensor(9.8354, grad_fn=<DivBackward0>)\n"
     ]
    },
    {
     "name": "stderr",
     "output_type": "stream",
     "text": [
      "[I 2024-04-17 15:25:22,963] Trial 3 finished with value: 5.783455848693848 and parameters: {'lr': 0.0074713598620917325, 'batchSize': 24, 'epochs': 46, 'hidden_size': 28}. Best is trial 1 with value: 3.6715922355651855.\n"
     ]
    },
    {
     "name": "stdout",
     "output_type": "stream",
     "text": [
      "tensor(5.7835, grad_fn=<DivBackward0>)\n"
     ]
    },
    {
     "name": "stderr",
     "output_type": "stream",
     "text": [
      "[I 2024-04-17 15:25:28,034] Trial 4 finished with value: 9.27778434753418 and parameters: {'lr': 0.0182683531425205, 'batchSize': 35, 'epochs': 55, 'hidden_size': 16}. Best is trial 1 with value: 3.6715922355651855.\n"
     ]
    },
    {
     "name": "stdout",
     "output_type": "stream",
     "text": [
      "tensor(9.2778, grad_fn=<DivBackward0>)\n"
     ]
    },
    {
     "name": "stderr",
     "output_type": "stream",
     "text": [
      "[I 2024-04-17 15:26:13,329] Trial 5 finished with value: 3.8373594284057617 and parameters: {'lr': 0.03455111715457398, 'batchSize': 16, 'epochs': 70, 'hidden_size': 187}. Best is trial 1 with value: 3.6715922355651855.\n"
     ]
    },
    {
     "name": "stdout",
     "output_type": "stream",
     "text": [
      "tensor(3.8374, grad_fn=<DivBackward0>)\n"
     ]
    },
    {
     "name": "stderr",
     "output_type": "stream",
     "text": [
      "[I 2024-04-17 15:26:35,899] Trial 6 finished with value: 13.258589744567871 and parameters: {'lr': 0.03119967654995494, 'batchSize': 17, 'epochs': 34, 'hidden_size': 222}. Best is trial 1 with value: 3.6715922355651855.\n"
     ]
    },
    {
     "name": "stdout",
     "output_type": "stream",
     "text": [
      "tensor(13.2586, grad_fn=<DivBackward0>)\n"
     ]
    },
    {
     "name": "stderr",
     "output_type": "stream",
     "text": [
      "[I 2024-04-17 15:27:07,552] Trial 7 finished with value: 2.713200092315674 and parameters: {'lr': 0.0030861702410551915, 'batchSize': 19, 'epochs': 84, 'hidden_size': 118}. Best is trial 7 with value: 2.713200092315674.\n"
     ]
    },
    {
     "name": "stdout",
     "output_type": "stream",
     "text": [
      "tensor(2.7132, grad_fn=<DivBackward0>)\n"
     ]
    },
    {
     "name": "stderr",
     "output_type": "stream",
     "text": [
      "[I 2024-04-17 15:27:20,567] Trial 8 finished with value: 128.52830505371094 and parameters: {'lr': 0.02509176380179215, 'batchSize': 27, 'epochs': 32, 'hidden_size': 231}. Best is trial 7 with value: 2.713200092315674.\n"
     ]
    },
    {
     "name": "stdout",
     "output_type": "stream",
     "text": [
      "tensor(128.5283, grad_fn=<DivBackward0>)\n"
     ]
    },
    {
     "name": "stderr",
     "output_type": "stream",
     "text": [
      "[I 2024-04-17 15:27:32,326] Trial 9 finished with value: 9.277052879333496 and parameters: {'lr': 0.025487927522022114, 'batchSize': 28, 'epochs': 43, 'hidden_size': 133}. Best is trial 7 with value: 2.713200092315674.\n"
     ]
    },
    {
     "name": "stdout",
     "output_type": "stream",
     "text": [
      "tensor(9.2771, grad_fn=<DivBackward0>)\n"
     ]
    },
    {
     "name": "stderr",
     "output_type": "stream",
     "text": [
      "[I 2024-04-17 15:27:48,236] Trial 10 finished with value: 9.613781929016113 and parameters: {'lr': 0.04881442202554903, 'batchSize': 45, 'epochs': 98, 'hidden_size': 111}. Best is trial 7 with value: 2.713200092315674.\n"
     ]
    },
    {
     "name": "stdout",
     "output_type": "stream",
     "text": [
      "tensor(9.6138, grad_fn=<DivBackward0>)\n"
     ]
    },
    {
     "name": "stderr",
     "output_type": "stream",
     "text": [
      "[I 2024-04-17 15:54:38,312] Trial 11 finished with value: 11.691160202026367 and parameters: {'lr': 0.0013004794362196058, 'batchSize': 2, 'epochs': 99, 'hidden_size': 289}. Best is trial 7 with value: 2.713200092315674.\n"
     ]
    },
    {
     "name": "stdout",
     "output_type": "stream",
     "text": [
      "tensor(11.6912, grad_fn=<DivBackward0>)\n"
     ]
    },
    {
     "name": "stderr",
     "output_type": "stream",
     "text": [
      "[I 2024-04-17 15:54:40,007] Trial 12 finished with value: 11.305587768554688 and parameters: {'lr': 0.0010362252091796849, 'batchSize': 41, 'epochs': 5, 'hidden_size': 96}. Best is trial 7 with value: 2.713200092315674.\n"
     ]
    },
    {
     "name": "stdout",
     "output_type": "stream",
     "text": [
      "tensor(11.3056, grad_fn=<DivBackward0>)\n"
     ]
    },
    {
     "name": "stderr",
     "output_type": "stream",
     "text": [
      "[I 2024-04-17 15:55:54,371] Trial 13 finished with value: 4.579885482788086 and parameters: {'lr': 0.011125462014290034, 'batchSize': 38, 'epochs': 78, 'hidden_size': 178}. Best is trial 7 with value: 2.713200092315674.\n"
     ]
    },
    {
     "name": "stdout",
     "output_type": "stream",
     "text": [
      "tensor(4.5799, grad_fn=<DivBackward0>)\n"
     ]
    },
    {
     "name": "stderr",
     "output_type": "stream",
     "text": [
      "[I 2024-04-17 15:56:22,653] Trial 14 finished with value: 3.1579630374908447 and parameters: {'lr': 0.006994288449771821, 'batchSize': 50, 'epochs': 65, 'hidden_size': 73}. Best is trial 7 with value: 2.713200092315674.\n"
     ]
    },
    {
     "name": "stdout",
     "output_type": "stream",
     "text": [
      "tensor(3.1580, grad_fn=<DivBackward0>)\n"
     ]
    },
    {
     "name": "stderr",
     "output_type": "stream",
     "text": [
      "[I 2024-04-17 15:56:48,303] Trial 15 finished with value: 3.6920812129974365 and parameters: {'lr': 0.017144504456922817, 'batchSize': 50, 'epochs': 61, 'hidden_size': 64}. Best is trial 7 with value: 2.713200092315674.\n"
     ]
    },
    {
     "name": "stdout",
     "output_type": "stream",
     "text": [
      "tensor(3.6921, grad_fn=<DivBackward0>)\n"
     ]
    },
    {
     "name": "stderr",
     "output_type": "stream",
     "text": [
      "[I 2024-04-17 15:57:34,576] Trial 16 finished with value: 3.1984357833862305 and parameters: {'lr': 0.0050592346117196, 'batchSize': 19, 'epochs': 85, 'hidden_size': 73}. Best is trial 7 with value: 2.713200092315674.\n"
     ]
    },
    {
     "name": "stdout",
     "output_type": "stream",
     "text": [
      "tensor(3.1984, grad_fn=<DivBackward0>)\n"
     ]
    },
    {
     "name": "stderr",
     "output_type": "stream",
     "text": [
      "[I 2024-04-17 15:58:37,022] Trial 17 finished with value: 9.404226303100586 and parameters: {'lr': 0.04105569784069932, 'batchSize': 9, 'epochs': 65, 'hidden_size': 147}. Best is trial 7 with value: 2.713200092315674.\n"
     ]
    },
    {
     "name": "stdout",
     "output_type": "stream",
     "text": [
      "tensor(9.4042, grad_fn=<DivBackward0>)\n"
     ]
    },
    {
     "name": "stderr",
     "output_type": "stream",
     "text": [
      "[I 2024-04-17 15:58:52,849] Trial 18 finished with value: 4.330657005310059 and parameters: {'lr': 0.012548508350284489, 'batchSize': 47, 'epochs': 91, 'hidden_size': 111}. Best is trial 7 with value: 2.713200092315674.\n"
     ]
    },
    {
     "name": "stdout",
     "output_type": "stream",
     "text": [
      "tensor(4.3307, grad_fn=<DivBackward0>)\n"
     ]
    },
    {
     "name": "stderr",
     "output_type": "stream",
     "text": [
      "[I 2024-04-17 16:00:58,402] Trial 19 finished with value: 9.280421257019043 and parameters: {'lr': 0.02099680417470713, 'batchSize': 3, 'epochs': 71, 'hidden_size': 58}. Best is trial 7 with value: 2.713200092315674.\n"
     ]
    },
    {
     "name": "stdout",
     "output_type": "stream",
     "text": [
      "tensor(9.2804, grad_fn=<DivBackward0>)\n"
     ]
    },
    {
     "name": "stderr",
     "output_type": "stream",
     "text": [
      "[I 2024-04-17 16:00:59,374] Trial 20 finished with value: 5.592511177062988 and parameters: {'lr': 0.005146139826808446, 'batchSize': 21, 'epochs': 5, 'hidden_size': 95}. Best is trial 7 with value: 2.713200092315674.\n"
     ]
    },
    {
     "name": "stdout",
     "output_type": "stream",
     "text": [
      "tensor(5.5925, grad_fn=<DivBackward0>)\n"
     ]
    },
    {
     "name": "stderr",
     "output_type": "stream",
     "text": [
      "[I 2024-04-17 16:01:22,455] Trial 21 finished with value: 3.3272476196289062 and parameters: {'lr': 0.005874537681157765, 'batchSize': 20, 'epochs': 87, 'hidden_size': 67}. Best is trial 7 with value: 2.713200092315674.\n"
     ]
    },
    {
     "name": "stdout",
     "output_type": "stream",
     "text": [
      "tensor(3.3272, grad_fn=<DivBackward0>)\n"
     ]
    },
    {
     "name": "stderr",
     "output_type": "stream",
     "text": [
      "[I 2024-04-17 16:01:53,041] Trial 22 finished with value: 9.452885627746582 and parameters: {'lr': 0.009789632715461497, 'batchSize': 17, 'epochs': 86, 'hidden_size': 81}. Best is trial 7 with value: 2.713200092315674.\n"
     ]
    },
    {
     "name": "stdout",
     "output_type": "stream",
     "text": [
      "tensor(9.4529, grad_fn=<DivBackward0>)\n"
     ]
    },
    {
     "name": "stderr",
     "output_type": "stream",
     "text": [
      "[I 2024-04-17 16:02:35,707] Trial 23 finished with value: 2.931628465652466 and parameters: {'lr': 0.0034330419633461, 'batchSize': 13, 'epochs': 71, 'hidden_size': 131}. Best is trial 7 with value: 2.713200092315674.\n"
     ]
    },
    {
     "name": "stdout",
     "output_type": "stream",
     "text": [
      "tensor(2.9316, grad_fn=<DivBackward0>)\n"
     ]
    },
    {
     "name": "stderr",
     "output_type": "stream",
     "text": [
      "[I 2024-04-17 16:03:14,890] Trial 24 finished with value: 4.155984878540039 and parameters: {'lr': 0.003194101047673106, 'batchSize': 11, 'epochs': 57, 'hidden_size': 132}. Best is trial 7 with value: 2.713200092315674.\n"
     ]
    },
    {
     "name": "stdout",
     "output_type": "stream",
     "text": [
      "tensor(4.1560, grad_fn=<DivBackward0>)\n"
     ]
    },
    {
     "name": "stderr",
     "output_type": "stream",
     "text": [
      "[I 2024-04-17 16:06:41,446] Trial 25 finished with value: 9.332955360412598 and parameters: {'lr': 0.013855207055402496, 'batchSize': 6, 'epochs': 70, 'hidden_size': 175}. Best is trial 7 with value: 2.713200092315674.\n"
     ]
    },
    {
     "name": "stdout",
     "output_type": "stream",
     "text": [
      "tensor(9.3330, grad_fn=<DivBackward0>)\n"
     ]
    },
    {
     "name": "stderr",
     "output_type": "stream",
     "text": [
      "[I 2024-04-17 16:07:54,379] Trial 26 finished with value: 3.630436420440674 and parameters: {'lr': 0.009305079555247876, 'batchSize': 13, 'epochs': 47, 'hidden_size': 156}. Best is trial 7 with value: 2.713200092315674.\n"
     ]
    },
    {
     "name": "stdout",
     "output_type": "stream",
     "text": [
      "tensor(3.6304, grad_fn=<DivBackward0>)\n"
     ]
    },
    {
     "name": "stderr",
     "output_type": "stream",
     "text": [
      "[I 2024-04-17 16:08:40,970] Trial 27 finished with value: 9.506515502929688 and parameters: {'lr': 0.019011412458846563, 'batchSize': 23, 'epochs': 74, 'hidden_size': 115}. Best is trial 7 with value: 2.713200092315674.\n"
     ]
    },
    {
     "name": "stdout",
     "output_type": "stream",
     "text": [
      "tensor(9.5065, grad_fn=<DivBackward0>)\n"
     ]
    },
    {
     "name": "stderr",
     "output_type": "stream",
     "text": [
      "[I 2024-04-17 16:08:48,906] Trial 28 finished with value: 3.134721517562866 and parameters: {'lr': 0.004072584142846552, 'batchSize': 34, 'epochs': 64, 'hidden_size': 45}. Best is trial 7 with value: 2.713200092315674.\n"
     ]
    },
    {
     "name": "stdout",
     "output_type": "stream",
     "text": [
      "tensor(3.1347, grad_fn=<DivBackward0>)\n"
     ]
    },
    {
     "name": "stderr",
     "output_type": "stream",
     "text": [
      "[I 2024-04-17 16:09:19,294] Trial 29 finished with value: 12.626982688903809 and parameters: {'lr': 0.022890515718144204, 'batchSize': 33, 'epochs': 92, 'hidden_size': 196}. Best is trial 7 with value: 2.713200092315674.\n"
     ]
    },
    {
     "name": "stdout",
     "output_type": "stream",
     "text": [
      "tensor(12.6270, grad_fn=<DivBackward0>)\n"
     ]
    },
    {
     "name": "stderr",
     "output_type": "stream",
     "text": [
      "[I 2024-04-17 16:09:27,532] Trial 30 finished with value: 6.065945148468018 and parameters: {'lr': 0.003466869713669652, 'batchSize': 37, 'epochs': 26, 'hidden_size': 301}. Best is trial 7 with value: 2.713200092315674.\n"
     ]
    },
    {
     "name": "stdout",
     "output_type": "stream",
     "text": [
      "tensor(6.0659, grad_fn=<DivBackward0>)\n"
     ]
    },
    {
     "name": "stderr",
     "output_type": "stream",
     "text": [
      "[I 2024-04-17 16:09:49,524] Trial 31 finished with value: 3.214221715927124 and parameters: {'lr': 0.006651362696541523, 'batchSize': 14, 'epochs': 64, 'hidden_size': 55}. Best is trial 7 with value: 2.713200092315674.\n"
     ]
    },
    {
     "name": "stdout",
     "output_type": "stream",
     "text": [
      "tensor(3.2142, grad_fn=<DivBackward0>)\n"
     ]
    },
    {
     "name": "stderr",
     "output_type": "stream",
     "text": [
      "[I 2024-04-17 16:09:55,562] Trial 32 finished with value: 3.7772719860076904 and parameters: {'lr': 0.009247767712961208, 'batchSize': 43, 'epochs': 60, 'hidden_size': 45}. Best is trial 7 with value: 2.713200092315674.\n"
     ]
    },
    {
     "name": "stdout",
     "output_type": "stream",
     "text": [
      "tensor(3.7773, grad_fn=<DivBackward0>)\n"
     ]
    },
    {
     "name": "stderr",
     "output_type": "stream",
     "text": [
      "[I 2024-04-17 16:10:08,280] Trial 33 finished with value: 5.764491558074951 and parameters: {'lr': 0.0013151001669781256, 'batchSize': 31, 'epochs': 79, 'hidden_size': 85}. Best is trial 7 with value: 2.713200092315674.\n"
     ]
    },
    {
     "name": "stdout",
     "output_type": "stream",
     "text": [
      "tensor(5.7645, grad_fn=<DivBackward0>)\n"
     ]
    },
    {
     "name": "stderr",
     "output_type": "stream",
     "text": [
      "[I 2024-04-17 16:10:32,930] Trial 34 finished with value: 11.884943962097168 and parameters: {'lr': 0.015330585693756026, 'batchSize': 7, 'epochs': 49, 'hidden_size': 17}. Best is trial 7 with value: 2.713200092315674.\n"
     ]
    },
    {
     "name": "stdout",
     "output_type": "stream",
     "text": [
      "tensor(11.8849, grad_fn=<DivBackward0>)\n"
     ]
    },
    {
     "name": "stderr",
     "output_type": "stream",
     "text": [
      "[I 2024-04-17 16:10:45,333] Trial 35 finished with value: 4.0655436515808105 and parameters: {'lr': 0.007777145458434966, 'batchSize': 50, 'epochs': 67, 'hidden_size': 40}. Best is trial 7 with value: 2.713200092315674.\n"
     ]
    },
    {
     "name": "stdout",
     "output_type": "stream",
     "text": [
      "tensor(4.0655, grad_fn=<DivBackward0>)\n"
     ]
    },
    {
     "name": "stderr",
     "output_type": "stream",
     "text": [
      "[I 2024-04-17 16:11:21,887] Trial 36 finished with value: 3.778512954711914 and parameters: {'lr': 0.011524207655667026, 'batchSize': 25, 'epochs': 52, 'hidden_size': 132}. Best is trial 7 with value: 2.713200092315674.\n"
     ]
    },
    {
     "name": "stdout",
     "output_type": "stream",
     "text": [
      "tensor(3.7785, grad_fn=<DivBackward0>)\n"
     ]
    },
    {
     "name": "stderr",
     "output_type": "stream",
     "text": [
      "[I 2024-04-17 16:11:59,912] Trial 37 finished with value: 2.7833948135375977 and parameters: {'lr': 0.0034158697423379543, 'batchSize': 29, 'epochs': 82, 'hidden_size': 100}. Best is trial 7 with value: 2.713200092315674.\n"
     ]
    },
    {
     "name": "stdout",
     "output_type": "stream",
     "text": [
      "tensor(2.7834, grad_fn=<DivBackward0>)\n"
     ]
    },
    {
     "name": "stderr",
     "output_type": "stream",
     "text": [
      "[I 2024-04-17 16:12:47,194] Trial 38 finished with value: 4.558320045471191 and parameters: {'lr': 0.0035555542256643655, 'batchSize': 29, 'epochs': 76, 'hidden_size': 149}. Best is trial 7 with value: 2.713200092315674.\n"
     ]
    },
    {
     "name": "stdout",
     "output_type": "stream",
     "text": [
      "tensor(4.5583, grad_fn=<DivBackward0>)\n"
     ]
    },
    {
     "name": "stderr",
     "output_type": "stream",
     "text": [
      "[I 2024-04-17 16:13:29,410] Trial 39 finished with value: 3.7216475009918213 and parameters: {'lr': 0.030210416600908837, 'batchSize': 34, 'epochs': 82, 'hidden_size': 100}. Best is trial 7 with value: 2.713200092315674.\n"
     ]
    },
    {
     "name": "stdout",
     "output_type": "stream",
     "text": [
      "tensor(3.7216, grad_fn=<DivBackward0>)\n"
     ]
    },
    {
     "name": "stderr",
     "output_type": "stream",
     "text": [
      "[I 2024-04-17 16:14:42,366] Trial 40 finished with value: 9.280424118041992 and parameters: {'lr': 0.039223341917939, 'batchSize': 23, 'epochs': 92, 'hidden_size': 122}. Best is trial 7 with value: 2.713200092315674.\n"
     ]
    },
    {
     "name": "stdout",
     "output_type": "stream",
     "text": [
      "tensor(9.2804, grad_fn=<DivBackward0>)\n"
     ]
    },
    {
     "name": "stderr",
     "output_type": "stream",
     "text": [
      "[I 2024-04-17 16:15:00,178] Trial 41 finished with value: 2.993248462677002 and parameters: {'lr': 0.007086934136281764, 'batchSize': 26, 'epochs': 75, 'hidden_size': 25}. Best is trial 7 with value: 2.713200092315674.\n"
     ]
    },
    {
     "name": "stdout",
     "output_type": "stream",
     "text": [
      "tensor(2.9932, grad_fn=<DivBackward0>)\n"
     ]
    },
    {
     "name": "stderr",
     "output_type": "stream",
     "text": [
      "[I 2024-04-17 16:15:14,323] Trial 42 finished with value: 3.215573787689209 and parameters: {'lr': 0.0037834779666875316, 'batchSize': 26, 'epochs': 75, 'hidden_size': 12}. Best is trial 7 with value: 2.713200092315674.\n"
     ]
    },
    {
     "name": "stdout",
     "output_type": "stream",
     "text": [
      "tensor(3.2156, grad_fn=<DivBackward0>)\n"
     ]
    },
    {
     "name": "stderr",
     "output_type": "stream",
     "text": [
      "[I 2024-04-17 16:15:34,869] Trial 43 finished with value: 3.0922932624816895 and parameters: {'lr': 0.00793643149297237, 'batchSize': 28, 'epochs': 83, 'hidden_size': 24}. Best is trial 7 with value: 2.713200092315674.\n"
     ]
    },
    {
     "name": "stdout",
     "output_type": "stream",
     "text": [
      "tensor(3.0923, grad_fn=<DivBackward0>)\n"
     ]
    },
    {
     "name": "stderr",
     "output_type": "stream",
     "text": [
      "[I 2024-04-17 16:15:58,298] Trial 44 finished with value: 11.057389259338379 and parameters: {'lr': 0.007873403222212475, 'batchSize': 31, 'epochs': 96, 'hidden_size': 30}. Best is trial 7 with value: 2.713200092315674.\n"
     ]
    },
    {
     "name": "stdout",
     "output_type": "stream",
     "text": [
      "tensor(11.0574, grad_fn=<DivBackward0>)\n"
     ]
    },
    {
     "name": "stderr",
     "output_type": "stream",
     "text": [
      "[I 2024-04-17 16:16:30,291] Trial 45 finished with value: 3.4098944664001465 and parameters: {'lr': 0.013748384827700124, 'batchSize': 27, 'epochs': 81, 'hidden_size': 197}. Best is trial 7 with value: 2.713200092315674.\n"
     ]
    },
    {
     "name": "stdout",
     "output_type": "stream",
     "text": [
      "tensor(3.4099, grad_fn=<DivBackward0>)\n"
     ]
    },
    {
     "name": "stderr",
     "output_type": "stream",
     "text": [
      "[I 2024-04-17 16:17:23,565] Trial 46 finished with value: 9.29869556427002 and parameters: {'lr': 0.010471840374796204, 'batchSize': 22, 'epochs': 83, 'hidden_size': 252}. Best is trial 7 with value: 2.713200092315674.\n"
     ]
    },
    {
     "name": "stdout",
     "output_type": "stream",
     "text": [
      "tensor(9.2987, grad_fn=<DivBackward0>)\n"
     ]
    },
    {
     "name": "stderr",
     "output_type": "stream",
     "text": [
      "[I 2024-04-17 16:18:52,621] Trial 47 finished with value: 3.3219964504241943 and parameters: {'lr': 0.0012731461689816127, 'batchSize': 15, 'epochs': 88, 'hidden_size': 167}. Best is trial 7 with value: 2.713200092315674.\n"
     ]
    },
    {
     "name": "stdout",
     "output_type": "stream",
     "text": [
      "tensor(3.3220, grad_fn=<DivBackward0>)\n"
     ]
    },
    {
     "name": "stderr",
     "output_type": "stream",
     "text": [
      "[I 2024-04-17 16:19:19,246] Trial 48 finished with value: 9.277395248413086 and parameters: {'lr': 0.016251293972449312, 'batchSize': 18, 'epochs': 71, 'hidden_size': 25}. Best is trial 7 with value: 2.713200092315674.\n"
     ]
    },
    {
     "name": "stdout",
     "output_type": "stream",
     "text": [
      "tensor(9.2774, grad_fn=<DivBackward0>)\n"
     ]
    },
    {
     "name": "stderr",
     "output_type": "stream",
     "text": [
      "[I 2024-04-17 16:20:19,985] Trial 49 finished with value: 3.6731584072113037 and parameters: {'lr': 0.0062525574115988814, 'batchSize': 24, 'epochs': 95, 'hidden_size': 102}. Best is trial 7 with value: 2.713200092315674.\n"
     ]
    },
    {
     "name": "stdout",
     "output_type": "stream",
     "text": [
      "tensor(3.6732, grad_fn=<DivBackward0>)\n"
     ]
    },
    {
     "name": "stderr",
     "output_type": "stream",
     "text": [
      "[I 2024-04-17 16:20:45,653] Trial 50 finished with value: 9.222328186035156 and parameters: {'lr': 0.01198022565596204, 'batchSize': 28, 'epochs': 42, 'hidden_size': 141}. Best is trial 7 with value: 2.713200092315674.\n"
     ]
    },
    {
     "name": "stdout",
     "output_type": "stream",
     "text": [
      "tensor(9.2223, grad_fn=<DivBackward0>)\n"
     ]
    },
    {
     "name": "stderr",
     "output_type": "stream",
     "text": [
      "[I 2024-04-17 16:21:04,278] Trial 51 finished with value: 2.851456880569458 and parameters: {'lr': 0.0031806603622765396, 'batchSize': 36, 'epochs': 78, 'hidden_size': 47}. Best is trial 7 with value: 2.713200092315674.\n"
     ]
    },
    {
     "name": "stdout",
     "output_type": "stream",
     "text": [
      "tensor(2.8515, grad_fn=<DivBackward0>)\n"
     ]
    },
    {
     "name": "stderr",
     "output_type": "stream",
     "text": [
      "[I 2024-04-17 16:21:17,593] Trial 52 finished with value: 3.5206923484802246 and parameters: {'lr': 0.0017612323714111826, 'batchSize': 37, 'epochs': 78, 'hidden_size': 31}. Best is trial 7 with value: 2.713200092315674.\n"
     ]
    },
    {
     "name": "stdout",
     "output_type": "stream",
     "text": [
      "tensor(3.5207, grad_fn=<DivBackward0>)\n"
     ]
    },
    {
     "name": "stderr",
     "output_type": "stream",
     "text": [
      "[I 2024-04-17 16:21:28,478] Trial 53 finished with value: 9.274776458740234 and parameters: {'lr': 0.007878217725590608, 'batchSize': 40, 'epochs': 100, 'hidden_size': 10}. Best is trial 7 with value: 2.713200092315674.\n"
     ]
    },
    {
     "name": "stdout",
     "output_type": "stream",
     "text": [
      "tensor(9.2748, grad_fn=<DivBackward0>)\n"
     ]
    },
    {
     "name": "stderr",
     "output_type": "stream",
     "text": [
      "[I 2024-04-17 16:21:51,722] Trial 54 finished with value: 2.819718599319458 and parameters: {'lr': 0.005485409506639174, 'batchSize': 32, 'epochs': 74, 'hidden_size': 57}. Best is trial 7 with value: 2.713200092315674.\n"
     ]
    },
    {
     "name": "stdout",
     "output_type": "stream",
     "text": [
      "tensor(2.8197, grad_fn=<DivBackward0>)\n"
     ]
    },
    {
     "name": "stderr",
     "output_type": "stream",
     "text": [
      "[I 2024-04-17 16:22:15,356] Trial 55 finished with value: 5.358395576477051 and parameters: {'lr': 0.00558304534399897, 'batchSize': 30, 'epochs': 73, 'hidden_size': 57}. Best is trial 7 with value: 2.713200092315674.\n"
     ]
    },
    {
     "name": "stdout",
     "output_type": "stream",
     "text": [
      "tensor(5.3584, grad_fn=<DivBackward0>)\n"
     ]
    },
    {
     "name": "stderr",
     "output_type": "stream",
     "text": [
      "[I 2024-04-17 16:22:40,816] Trial 56 finished with value: 5.696153163909912 and parameters: {'lr': 0.0033213466295516423, 'batchSize': 32, 'epochs': 69, 'hidden_size': 82}. Best is trial 7 with value: 2.713200092315674.\n"
     ]
    },
    {
     "name": "stdout",
     "output_type": "stream",
     "text": [
      "tensor(5.6962, grad_fn=<DivBackward0>)\n"
     ]
    },
    {
     "name": "stderr",
     "output_type": "stream",
     "text": [
      "[I 2024-04-17 16:23:11,636] Trial 57 finished with value: 3.436483383178711 and parameters: {'lr': 0.005337258558068654, 'batchSize': 36, 'epochs': 89, 'hidden_size': 90}. Best is trial 7 with value: 2.713200092315674.\n"
     ]
    },
    {
     "name": "stdout",
     "output_type": "stream",
     "text": [
      "tensor(3.4365, grad_fn=<DivBackward0>)\n"
     ]
    },
    {
     "name": "stderr",
     "output_type": "stream",
     "text": [
      "[I 2024-04-17 16:23:31,588] Trial 58 finished with value: 3.445861339569092 and parameters: {'lr': 0.0022828556303530973, 'batchSize': 40, 'epochs': 77, 'hidden_size': 76}. Best is trial 7 with value: 2.713200092315674.\n"
     ]
    },
    {
     "name": "stdout",
     "output_type": "stream",
     "text": [
      "tensor(3.4459, grad_fn=<DivBackward0>)\n"
     ]
    },
    {
     "name": "stderr",
     "output_type": "stream",
     "text": [
      "[I 2024-04-17 16:23:45,264] Trial 59 finished with value: 3.4605417251586914 and parameters: {'lr': 0.009469408344565403, 'batchSize': 11, 'epochs': 12, 'hidden_size': 121}. Best is trial 7 with value: 2.713200092315674.\n"
     ]
    },
    {
     "name": "stdout",
     "output_type": "stream",
     "text": [
      "tensor(3.4605, grad_fn=<DivBackward0>)\n"
     ]
    },
    {
     "name": "stderr",
     "output_type": "stream",
     "text": [
      "[I 2024-04-17 16:24:21,460] Trial 60 finished with value: 9.483138084411621 and parameters: {'lr': 0.04730943488065234, 'batchSize': 18, 'epochs': 58, 'hidden_size': 62}. Best is trial 7 with value: 2.713200092315674.\n"
     ]
    },
    {
     "name": "stdout",
     "output_type": "stream",
     "text": [
      "tensor(9.4831, grad_fn=<DivBackward0>)\n"
     ]
    },
    {
     "name": "stderr",
     "output_type": "stream",
     "text": [
      "[I 2024-04-17 16:24:47,875] Trial 61 finished with value: 2.569736957550049 and parameters: {'lr': 0.004799821565505988, 'batchSize': 26, 'epochs': 84, 'hidden_size': 45}. Best is trial 61 with value: 2.569736957550049.\n"
     ]
    },
    {
     "name": "stdout",
     "output_type": "stream",
     "text": [
      "tensor(2.5697, grad_fn=<DivBackward0>)\n"
     ]
    },
    {
     "name": "stderr",
     "output_type": "stream",
     "text": [
      "[I 2024-04-17 16:25:27,534] Trial 62 finished with value: 3.567263603210449 and parameters: {'lr': 0.004405110452952899, 'batchSize': 20, 'epochs': 85, 'hidden_size': 50}. Best is trial 61 with value: 2.569736957550049.\n"
     ]
    },
    {
     "name": "stdout",
     "output_type": "stream",
     "text": [
      "tensor(3.5673, grad_fn=<DivBackward0>)\n"
     ]
    },
    {
     "name": "stderr",
     "output_type": "stream",
     "text": [
      "[I 2024-04-17 16:25:57,417] Trial 63 finished with value: 4.32840633392334 and parameters: {'lr': 0.006104394130088741, 'batchSize': 26, 'epochs': 81, 'hidden_size': 69}. Best is trial 61 with value: 2.569736957550049.\n"
     ]
    },
    {
     "name": "stdout",
     "output_type": "stream",
     "text": [
      "tensor(4.3284, grad_fn=<DivBackward0>)\n"
     ]
    },
    {
     "name": "stderr",
     "output_type": "stream",
     "text": [
      "[I 2024-04-17 16:26:12,983] Trial 64 finished with value: 3.147916316986084 and parameters: {'lr': 0.0027107919340217043, 'batchSize': 33, 'epochs': 73, 'hidden_size': 35}. Best is trial 61 with value: 2.569736957550049.\n"
     ]
    },
    {
     "name": "stdout",
     "output_type": "stream",
     "text": [
      "tensor(3.1479, grad_fn=<DivBackward0>)\n"
     ]
    },
    {
     "name": "stderr",
     "output_type": "stream",
     "text": [
      "[I 2024-04-17 16:26:40,528] Trial 65 finished with value: 2.9103448390960693 and parameters: {'lr': 0.00499401035414168, 'batchSize': 29, 'epochs': 79, 'hidden_size': 106}. Best is trial 61 with value: 2.569736957550049.\n"
     ]
    },
    {
     "name": "stdout",
     "output_type": "stream",
     "text": [
      "tensor(2.9103, grad_fn=<DivBackward0>)\n"
     ]
    },
    {
     "name": "stderr",
     "output_type": "stream",
     "text": [
      "[I 2024-04-17 16:27:14,716] Trial 66 finished with value: 5.779619216918945 and parameters: {'lr': 0.004548649827974399, 'batchSize': 30, 'epochs': 90, 'hidden_size': 107}. Best is trial 61 with value: 2.569736957550049.\n"
     ]
    },
    {
     "name": "stdout",
     "output_type": "stream",
     "text": [
      "tensor(5.7796, grad_fn=<DivBackward0>)\n"
     ]
    },
    {
     "name": "stderr",
     "output_type": "stream",
     "text": [
      "[I 2024-04-17 16:27:52,572] Trial 67 finished with value: 5.053942680358887 and parameters: {'lr': 0.009570889468043438, 'batchSize': 35, 'epochs': 85, 'hidden_size': 120}. Best is trial 61 with value: 2.569736957550049.\n"
     ]
    },
    {
     "name": "stdout",
     "output_type": "stream",
     "text": [
      "tensor(5.0539, grad_fn=<DivBackward0>)\n"
     ]
    },
    {
     "name": "stderr",
     "output_type": "stream",
     "text": [
      "[I 2024-04-17 16:28:31,275] Trial 68 finished with value: 2.907684803009033 and parameters: {'lr': 0.0012339245889279016, 'batchSize': 21, 'epochs': 79, 'hidden_size': 95}. Best is trial 61 with value: 2.569736957550049.\n"
     ]
    },
    {
     "name": "stdout",
     "output_type": "stream",
     "text": [
      "tensor(2.9077, grad_fn=<DivBackward0>)\n"
     ]
    },
    {
     "name": "stderr",
     "output_type": "stream",
     "text": [
      "[I 2024-04-17 16:29:09,571] Trial 69 finished with value: 4.346644401550293 and parameters: {'lr': 0.0010602739651240515, 'batchSize': 21, 'epochs': 79, 'hidden_size': 96}. Best is trial 61 with value: 2.569736957550049.\n"
     ]
    },
    {
     "name": "stdout",
     "output_type": "stream",
     "text": [
      "tensor(4.3466, grad_fn=<DivBackward0>)\n"
     ]
    },
    {
     "name": "stderr",
     "output_type": "stream",
     "text": [
      "[I 2024-04-17 16:29:51,699] Trial 70 finished with value: 6.0029683113098145 and parameters: {'lr': 0.00505291349751607, 'batchSize': 24, 'epochs': 93, 'hidden_size': 73}. Best is trial 61 with value: 2.569736957550049.\n"
     ]
    },
    {
     "name": "stdout",
     "output_type": "stream",
     "text": [
      "tensor(6.0030, grad_fn=<DivBackward0>)\n"
     ]
    },
    {
     "name": "stderr",
     "output_type": "stream",
     "text": [
      "[I 2024-04-17 16:31:17,737] Trial 71 finished with value: 2.9219887256622314 and parameters: {'lr': 0.002681130884478103, 'batchSize': 16, 'epochs': 87, 'hidden_size': 131}. Best is trial 61 with value: 2.569736957550049.\n"
     ]
    },
    {
     "name": "stdout",
     "output_type": "stream",
     "text": [
      "tensor(2.9220, grad_fn=<DivBackward0>)\n"
     ]
    },
    {
     "name": "stderr",
     "output_type": "stream",
     "text": [
      "[I 2024-04-17 16:32:38,450] Trial 72 finished with value: 4.188638210296631 and parameters: {'lr': 0.0030861607023320724, 'batchSize': 15, 'epochs': 87, 'hidden_size': 110}. Best is trial 61 with value: 2.569736957550049.\n"
     ]
    },
    {
     "name": "stdout",
     "output_type": "stream",
     "text": [
      "tensor(4.1886, grad_fn=<DivBackward0>)\n"
     ]
    },
    {
     "name": "stderr",
     "output_type": "stream",
     "text": [
      "[I 2024-04-17 16:33:40,944] Trial 73 finished with value: 3.7415196895599365 and parameters: {'lr': 0.002385693002500268, 'batchSize': 17, 'epochs': 85, 'hidden_size': 93}. Best is trial 61 with value: 2.569736957550049.\n"
     ]
    },
    {
     "name": "stdout",
     "output_type": "stream",
     "text": [
      "tensor(3.7415, grad_fn=<DivBackward0>)\n"
     ]
    },
    {
     "name": "stderr",
     "output_type": "stream",
     "text": [
      "[I 2024-04-17 16:34:34,622] Trial 74 finished with value: 3.6143977642059326 and parameters: {'lr': 0.006817261280528257, 'batchSize': 29, 'epochs': 79, 'hidden_size': 138}. Best is trial 61 with value: 2.569736957550049.\n"
     ]
    },
    {
     "name": "stdout",
     "output_type": "stream",
     "text": [
      "tensor(3.6144, grad_fn=<DivBackward0>)\n"
     ]
    },
    {
     "name": "stderr",
     "output_type": "stream",
     "text": [
      "[I 2024-04-17 16:35:59,311] Trial 75 finished with value: 9.342974662780762 and parameters: {'lr': 0.02895485513924351, 'batchSize': 20, 'epochs': 95, 'hidden_size': 125}. Best is trial 61 with value: 2.569736957550049.\n"
     ]
    },
    {
     "name": "stdout",
     "output_type": "stream",
     "text": [
      "tensor(9.3430, grad_fn=<DivBackward0>)\n"
     ]
    },
    {
     "name": "stderr",
     "output_type": "stream",
     "text": [
      "[I 2024-04-17 16:36:40,767] Trial 76 finished with value: 3.165334701538086 and parameters: {'lr': 0.004510823889635229, 'batchSize': 22, 'epochs': 67, 'hidden_size': 87}. Best is trial 61 with value: 2.569736957550049.\n"
     ]
    },
    {
     "name": "stdout",
     "output_type": "stream",
     "text": [
      "tensor(3.1653, grad_fn=<DivBackward0>)\n"
     ]
    },
    {
     "name": "stderr",
     "output_type": "stream",
     "text": [
      "[I 2024-04-17 16:37:35,512] Trial 77 finished with value: 3.0937235355377197 and parameters: {'lr': 0.00877249904388264, 'batchSize': 32, 'epochs': 83, 'hidden_size': 149}. Best is trial 61 with value: 2.569736957550049.\n"
     ]
    },
    {
     "name": "stdout",
     "output_type": "stream",
     "text": [
      "tensor(3.0937, grad_fn=<DivBackward0>)\n"
     ]
    },
    {
     "name": "stderr",
     "output_type": "stream",
     "text": [
      "[I 2024-04-17 16:37:58,372] Trial 78 finished with value: 3.9010255336761475 and parameters: {'lr': 0.036344355229945495, 'batchSize': 38, 'epochs': 88, 'hidden_size': 46}. Best is trial 61 with value: 2.569736957550049.\n"
     ]
    },
    {
     "name": "stdout",
     "output_type": "stream",
     "text": [
      "tensor(3.9010, grad_fn=<DivBackward0>)\n"
     ]
    },
    {
     "name": "stderr",
     "output_type": "stream",
     "text": [
      "[I 2024-04-17 16:38:57,858] Trial 79 finished with value: 3.137256145477295 and parameters: {'lr': 0.0023245208531148427, 'batchSize': 25, 'epochs': 82, 'hidden_size': 159}. Best is trial 61 with value: 2.569736957550049.\n"
     ]
    },
    {
     "name": "stdout",
     "output_type": "stream",
     "text": [
      "tensor(3.1373, grad_fn=<DivBackward0>)\n"
     ]
    },
    {
     "name": "stderr",
     "output_type": "stream",
     "text": [
      "[I 2024-04-17 16:39:59,315] Trial 80 finished with value: 4.165153980255127 and parameters: {'lr': 0.011027055917917446, 'batchSize': 19, 'epochs': 91, 'hidden_size': 114}. Best is trial 61 with value: 2.569736957550049.\n"
     ]
    },
    {
     "name": "stdout",
     "output_type": "stream",
     "text": [
      "tensor(4.1652, grad_fn=<DivBackward0>)\n"
     ]
    },
    {
     "name": "stderr",
     "output_type": "stream",
     "text": [
      "[I 2024-04-17 16:40:48,902] Trial 81 finished with value: 2.796855926513672 and parameters: {'lr': 0.006179199051028468, 'batchSize': 13, 'epochs': 76, 'hidden_size': 134}. Best is trial 61 with value: 2.569736957550049.\n"
     ]
    },
    {
     "name": "stdout",
     "output_type": "stream",
     "text": [
      "tensor(2.7969, grad_fn=<DivBackward0>)\n"
     ]
    },
    {
     "name": "stderr",
     "output_type": "stream",
     "text": [
      "[I 2024-04-17 16:41:34,678] Trial 82 finished with value: 3.628753423690796 and parameters: {'lr': 0.005938635369891098, 'batchSize': 12, 'epochs': 80, 'hidden_size': 104}. Best is trial 61 with value: 2.569736957550049.\n"
     ]
    },
    {
     "name": "stdout",
     "output_type": "stream",
     "text": [
      "tensor(3.6288, grad_fn=<DivBackward0>)\n"
     ]
    },
    {
     "name": "stderr",
     "output_type": "stream",
     "text": [
      "[I 2024-04-17 16:42:14,746] Trial 83 finished with value: 3.8108420372009277 and parameters: {'lr': 0.004067271353430194, 'batchSize': 16, 'epochs': 75, 'hidden_size': 141}. Best is trial 61 with value: 2.569736957550049.\n"
     ]
    },
    {
     "name": "stdout",
     "output_type": "stream",
     "text": [
      "tensor(3.8108, grad_fn=<DivBackward0>)\n"
     ]
    },
    {
     "name": "stderr",
     "output_type": "stream",
     "text": [
      "[I 2024-04-17 16:43:00,948] Trial 84 finished with value: 3.3677361011505127 and parameters: {'lr': 0.006552052733260028, 'batchSize': 14, 'epochs': 77, 'hidden_size': 127}. Best is trial 61 with value: 2.569736957550049.\n"
     ]
    },
    {
     "name": "stdout",
     "output_type": "stream",
     "text": [
      "tensor(3.3677, grad_fn=<DivBackward0>)\n"
     ]
    },
    {
     "name": "stderr",
     "output_type": "stream",
     "text": [
      "[I 2024-04-17 16:43:36,745] Trial 85 finished with value: 3.460704803466797 and parameters: {'lr': 0.0010778793221547576, 'batchSize': 10, 'epochs': 73, 'hidden_size': 78}. Best is trial 61 with value: 2.569736957550049.\n"
     ]
    },
    {
     "name": "stdout",
     "output_type": "stream",
     "text": [
      "tensor(3.4607, grad_fn=<DivBackward0>)\n"
     ]
    },
    {
     "name": "stderr",
     "output_type": "stream",
     "text": [
      "[I 2024-04-17 16:43:53,255] Trial 86 finished with value: 3.747173547744751 and parameters: {'lr': 0.008403485336993841, 'batchSize': 27, 'epochs': 86, 'hidden_size': 53}. Best is trial 61 with value: 2.569736957550049.\n"
     ]
    },
    {
     "name": "stdout",
     "output_type": "stream",
     "text": [
      "tensor(3.7472, grad_fn=<DivBackward0>)\n"
     ]
    },
    {
     "name": "stderr",
     "output_type": "stream",
     "text": [
      "[I 2024-04-17 16:44:09,627] Trial 87 finished with value: 3.7053706645965576 and parameters: {'lr': 0.013171202656012355, 'batchSize': 22, 'epochs': 68, 'hidden_size': 64}. Best is trial 61 with value: 2.569736957550049.\n"
     ]
    },
    {
     "name": "stdout",
     "output_type": "stream",
     "text": [
      "tensor(3.7054, grad_fn=<DivBackward0>)\n"
     ]
    },
    {
     "name": "stderr",
     "output_type": "stream",
     "text": [
      "[I 2024-04-17 16:45:27,145] Trial 88 finished with value: 10.953990936279297 and parameters: {'lr': 0.002660816878201191, 'batchSize': 8, 'epochs': 83, 'hidden_size': 118}. Best is trial 61 with value: 2.569736957550049.\n"
     ]
    },
    {
     "name": "stdout",
     "output_type": "stream",
     "text": [
      "tensor(10.9540, grad_fn=<DivBackward0>)\n"
     ]
    },
    {
     "name": "stderr",
     "output_type": "stream",
     "text": [
      "[I 2024-04-17 16:46:19,242] Trial 89 finished with value: 10.273058891296387 and parameters: {'lr': 0.004551873655074616, 'batchSize': 4, 'epochs': 71, 'hidden_size': 41}. Best is trial 61 with value: 2.569736957550049.\n"
     ]
    },
    {
     "name": "stdout",
     "output_type": "stream",
     "text": [
      "tensor(10.2731, grad_fn=<DivBackward0>)\n"
     ]
    },
    {
     "name": "stderr",
     "output_type": "stream",
     "text": [
      "[I 2024-04-17 16:46:37,627] Trial 90 finished with value: 5.7194623947143555 and parameters: {'lr': 0.005630746219135036, 'batchSize': 34, 'epochs': 62, 'hidden_size': 169}. Best is trial 61 with value: 2.569736957550049.\n"
     ]
    },
    {
     "name": "stdout",
     "output_type": "stream",
     "text": [
      "tensor(5.7195, grad_fn=<DivBackward0>)\n"
     ]
    },
    {
     "name": "stderr",
     "output_type": "stream",
     "text": [
      "[I 2024-04-17 16:47:29,720] Trial 91 finished with value: 3.500093460083008 and parameters: {'lr': 0.00337596335555442, 'batchSize': 12, 'epochs': 77, 'hidden_size': 130}. Best is trial 61 with value: 2.569736957550049.\n"
     ]
    },
    {
     "name": "stdout",
     "output_type": "stream",
     "text": [
      "tensor(3.5001, grad_fn=<DivBackward0>)\n"
     ]
    },
    {
     "name": "stderr",
     "output_type": "stream",
     "text": [
      "[I 2024-04-17 16:48:11,790] Trial 92 finished with value: 5.195322513580322 and parameters: {'lr': 0.006894714220044335, 'batchSize': 16, 'epochs': 80, 'hidden_size': 136}. Best is trial 61 with value: 2.569736957550049.\n"
     ]
    },
    {
     "name": "stdout",
     "output_type": "stream",
     "text": [
      "tensor(5.1953, grad_fn=<DivBackward0>)\n"
     ]
    },
    {
     "name": "stderr",
     "output_type": "stream",
     "text": [
      "[I 2024-04-17 16:48:56,096] Trial 93 finished with value: 3.946877956390381 and parameters: {'lr': 0.0021816169475522254, 'batchSize': 13, 'epochs': 75, 'hidden_size': 147}. Best is trial 61 with value: 2.569736957550049.\n"
     ]
    },
    {
     "name": "stdout",
     "output_type": "stream",
     "text": [
      "tensor(3.9469, grad_fn=<DivBackward0>)\n"
     ]
    },
    {
     "name": "stderr",
     "output_type": "stream",
     "text": [
      "[I 2024-04-17 16:49:11,981] Trial 94 finished with value: 3.121021032333374 and parameters: {'lr': 0.003797551597984402, 'batchSize': 29, 'epochs': 73, 'hidden_size': 98}. Best is trial 61 with value: 2.569736957550049.\n"
     ]
    },
    {
     "name": "stdout",
     "output_type": "stream",
     "text": [
      "tensor(3.1210, grad_fn=<DivBackward0>)\n"
     ]
    },
    {
     "name": "stderr",
     "output_type": "stream",
     "text": [
      "[I 2024-04-17 16:49:59,146] Trial 95 finished with value: 9.419892311096191 and parameters: {'lr': 0.019208228685350777, 'batchSize': 18, 'epochs': 89, 'hidden_size': 152}. Best is trial 61 with value: 2.569736957550049.\n"
     ]
    },
    {
     "name": "stdout",
     "output_type": "stream",
     "text": [
      "tensor(9.4199, grad_fn=<DivBackward0>)\n"
     ]
    },
    {
     "name": "stderr",
     "output_type": "stream",
     "text": [
      "[I 2024-04-17 16:50:16,922] Trial 96 finished with value: 3.720747470855713 and parameters: {'lr': 0.007271903016741109, 'batchSize': 31, 'epochs': 71, 'hidden_size': 110}. Best is trial 61 with value: 2.569736957550049.\n"
     ]
    },
    {
     "name": "stdout",
     "output_type": "stream",
     "text": [
      "tensor(3.7207, grad_fn=<DivBackward0>)\n"
     ]
    },
    {
     "name": "stderr",
     "output_type": "stream",
     "text": [
      "[I 2024-04-17 16:50:57,211] Trial 97 finished with value: 9.355292320251465 and parameters: {'lr': 0.005412085233637106, 'batchSize': 14, 'epochs': 97, 'hidden_size': 86}. Best is trial 61 with value: 2.569736957550049.\n"
     ]
    },
    {
     "name": "stdout",
     "output_type": "stream",
     "text": [
      "tensor(9.3553, grad_fn=<DivBackward0>)\n"
     ]
    },
    {
     "name": "stderr",
     "output_type": "stream",
     "text": [
      "[I 2024-04-17 16:51:16,102] Trial 98 finished with value: 5.209029197692871 and parameters: {'lr': 0.0010372138275194789, 'batchSize': 28, 'epochs': 84, 'hidden_size': 115}. Best is trial 61 with value: 2.569736957550049.\n"
     ]
    },
    {
     "name": "stdout",
     "output_type": "stream",
     "text": [
      "tensor(5.2090, grad_fn=<DivBackward0>)\n"
     ]
    },
    {
     "name": "stderr",
     "output_type": "stream",
     "text": [
      "[I 2024-04-17 16:51:27,290] Trial 99 finished with value: 3.7644388675689697 and parameters: {'lr': 0.010679875969997392, 'batchSize': 24, 'epochs': 81, 'hidden_size': 18}. Best is trial 61 with value: 2.569736957550049.\n"
     ]
    },
    {
     "name": "stdout",
     "output_type": "stream",
     "text": [
      "tensor(3.7644, grad_fn=<DivBackward0>)\n"
     ]
    }
   ],
   "source": [
    "def objective(trial):\n",
    "    lr = trial.suggest_float('lr', .001, .05)\n",
    "    batchSize = trial.suggest_int('batchSize', 1, 50)\n",
    "    epochs = trial.suggest_int('epochs', 5, 100)\n",
    "    hidden_size = trial.suggest_int('hidden_size', 10, 312)\n",
    "    model = FlatWeatherMLP(hidden_size=hidden_size)\n",
    "    train_model(model, train_data, val_data, lr=lr, batchSize=batchSize, epochs=epochs, v=False)\n",
    "    return accuracy(model, data['validation'])\n",
    "\n",
    "study = optuna.create_study(direction='minimize')\n",
    "study.optimize(objective, n_trials=100)"
   ]
  },
  {
   "cell_type": "code",
   "execution_count": 24,
   "metadata": {},
   "outputs": [
    {
     "name": "stdout",
     "output_type": "stream",
     "text": [
      "Epoch [1/84], Training Loss: 51282.774424416675\n",
      "Epoch [1/84], Validation Loss: 100.80926014128185\n",
      "Epoch [2/84], Training Loss: 250.43372499375116\n",
      "Epoch [2/84], Validation Loss: 64.14686066763741\n",
      "Epoch [3/84], Training Loss: 176.94544714973085\n",
      "Epoch [3/84], Validation Loss: 50.50973728724888\n",
      "Epoch [4/84], Training Loss: 132.70340787796746\n",
      "Epoch [4/84], Validation Loss: 54.814989362444194\n",
      "Epoch [5/84], Training Loss: 115.55522964114235\n",
      "Epoch [5/84], Validation Loss: 58.082149868919736\n",
      "Epoch [6/84], Training Loss: 96.4870992388044\n",
      "Epoch [6/84], Validation Loss: 31.359577406020392\n",
      "Epoch [7/84], Training Loss: 79.06352703911918\n",
      "Epoch [7/84], Validation Loss: 32.19963518778483\n",
      "Epoch [8/84], Training Loss: 71.00083305722191\n",
      "Epoch [8/84], Validation Loss: 31.06229564121791\n",
      "Epoch [9/84], Training Loss: 49.547791095007035\n",
      "Epoch [9/84], Validation Loss: 26.84986623128255\n",
      "Epoch [10/84], Training Loss: 43.82922947974432\n",
      "Epoch [10/84], Validation Loss: 24.84136154538109\n",
      "Epoch [11/84], Training Loss: 37.060542481286184\n",
      "Epoch [11/84], Validation Loss: 29.9174572853815\n",
      "Epoch [12/84], Training Loss: 34.04046826135544\n",
      "Epoch [12/84], Validation Loss: 26.979251975104923\n",
      "Epoch [13/84], Training Loss: 32.488206011908396\n",
      "Epoch [13/84], Validation Loss: 39.21814605167934\n",
      "Epoch [14/84], Training Loss: 26.95163969766526\n",
      "Epoch [14/84], Validation Loss: 30.47173015276591\n",
      "Epoch [15/84], Training Loss: 28.731834513800486\n",
      "Epoch [15/84], Validation Loss: 30.204375255675544\n",
      "Epoch [16/84], Training Loss: 27.197162741706485\n",
      "Epoch [16/84], Validation Loss: 49.179538908458895\n",
      "Epoch [17/84], Training Loss: 33.95637656393505\n",
      "Epoch [17/84], Validation Loss: 32.10215663909912\n",
      "Epoch [18/84], Training Loss: 28.222965257508413\n",
      "Epoch [18/84], Validation Loss: 32.44951874869211\n",
      "Epoch [19/84], Training Loss: 29.180343048913137\n",
      "Epoch [19/84], Validation Loss: 33.65726621945699\n",
      "Epoch [20/84], Training Loss: 40.20093483016605\n",
      "Epoch [20/84], Validation Loss: 50.32664685022263\n",
      "Epoch [21/84], Training Loss: 30.820056676864624\n",
      "Epoch [21/84], Validation Loss: 39.268888042086644\n",
      "Epoch [22/84], Training Loss: 21.475554960114614\n",
      "Epoch [22/84], Validation Loss: 33.920029083887734\n",
      "Epoch [23/84], Training Loss: 27.132428237370082\n",
      "Epoch [23/84], Validation Loss: 55.33617269425165\n",
      "Epoch [24/84], Training Loss: 21.4889722324553\n",
      "Epoch [24/84], Validation Loss: 48.76478976295108\n",
      "Epoch [25/84], Training Loss: 19.06995523543585\n",
      "Epoch [25/84], Validation Loss: 38.16576032411484\n",
      "Epoch [26/84], Training Loss: 24.74025935786111\n",
      "Epoch [26/84], Validation Loss: 42.234317631948564\n",
      "Epoch [27/84], Training Loss: 34.822519063949585\n",
      "Epoch [27/84], Validation Loss: 57.41416903904506\n",
      "Epoch [28/84], Training Loss: 22.292187457992917\n",
      "Epoch [28/84], Validation Loss: 47.62236458914621\n",
      "Epoch [29/84], Training Loss: 17.244250587054662\n",
      "Epoch [29/84], Validation Loss: 47.32415730612619\n",
      "Epoch [30/84], Training Loss: 25.515829693703424\n",
      "Epoch [30/84], Validation Loss: 41.19611069134304\n",
      "Epoch [31/84], Training Loss: 22.018439417793637\n",
      "Epoch [31/84], Validation Loss: 192.1808119274321\n",
      "Epoch [32/84], Training Loss: 44.43461159865061\n",
      "Epoch [32/84], Validation Loss: 48.661770003182546\n",
      "Epoch [33/84], Training Loss: 29.48458007971446\n",
      "Epoch [33/84], Validation Loss: 45.483063079061964\n",
      "Epoch [34/84], Training Loss: 397.92555282797133\n",
      "Epoch [34/84], Validation Loss: 44.527017003013974\n",
      "Epoch [35/84], Training Loss: 32.00773700645992\n",
      "Epoch [35/84], Validation Loss: 38.687539009820846\n",
      "Epoch [36/84], Training Loss: 18.504387151627313\n",
      "Epoch [36/84], Validation Loss: 44.35746932029724\n",
      "Epoch [37/84], Training Loss: 19.081305503845215\n",
      "Epoch [37/84], Validation Loss: 38.39153352237883\n",
      "Epoch [38/84], Training Loss: 16.012423197428387\n",
      "Epoch [38/84], Validation Loss: 49.81128851572672\n",
      "Epoch [39/84], Training Loss: 15.431992258344378\n",
      "Epoch [39/84], Validation Loss: 47.12767060597738\n",
      "Epoch [40/84], Training Loss: 14.486152296974545\n",
      "Epoch [40/84], Validation Loss: 41.43656525157747\n",
      "Epoch [41/84], Training Loss: 18.405284944034758\n",
      "Epoch [41/84], Validation Loss: 42.5943086090542\n",
      "Epoch [42/84], Training Loss: 13.630416779291062\n",
      "Epoch [42/84], Validation Loss: 43.881037269319805\n",
      "Epoch [43/84], Training Loss: 12.327597572689964\n",
      "Epoch [43/84], Validation Loss: 41.68485585280827\n",
      "Epoch [44/84], Training Loss: 13.298699764978318\n",
      "Epoch [44/84], Validation Loss: 42.32894571622213\n",
      "Epoch [45/84], Training Loss: 12.661909160159883\n",
      "Epoch [45/84], Validation Loss: 49.71831796282814\n",
      "Epoch [46/84], Training Loss: 13.462325916403817\n",
      "Epoch [46/84], Validation Loss: 43.766842206319176\n",
      "Epoch [47/84], Training Loss: 12.424045494624547\n",
      "Epoch [47/84], Validation Loss: 40.871914040474664\n",
      "Epoch [48/84], Training Loss: 13.640084380195255\n",
      "Epoch [48/84], Validation Loss: 40.78149366378784\n",
      "Epoch [49/84], Training Loss: 17.79058530217125\n",
      "Epoch [49/84], Validation Loss: 41.114867074149\n",
      "Epoch [50/84], Training Loss: 14.109207022757758\n",
      "Epoch [50/84], Validation Loss: 39.00930839493161\n",
      "Epoch [51/84], Training Loss: 13.052736208552407\n",
      "Epoch [51/84], Validation Loss: 36.80186552093143\n",
      "Epoch [52/84], Training Loss: 15.629609198797317\n",
      "Epoch [52/84], Validation Loss: 38.234235718136745\n",
      "Epoch [53/84], Training Loss: 18.18738435563587\n",
      "Epoch [53/84], Validation Loss: 34.51491110665457\n",
      "Epoch [54/84], Training Loss: 11.680822443394433\n",
      "Epoch [54/84], Validation Loss: 31.027662504286994\n",
      "Epoch [55/84], Training Loss: 13.671022673447927\n",
      "Epoch [55/84], Validation Loss: 35.065347160611836\n",
      "Epoch [56/84], Training Loss: 14.45123707112812\n",
      "Epoch [56/84], Validation Loss: 31.938018321990967\n",
      "Epoch [57/84], Training Loss: 12.025554305031186\n",
      "Epoch [57/84], Validation Loss: 32.96516972496396\n",
      "Epoch [58/84], Training Loss: 14.731483811423892\n",
      "Epoch [58/84], Validation Loss: 28.954462460109166\n",
      "Epoch [59/84], Training Loss: 18.92383172966185\n",
      "Epoch [59/84], Validation Loss: 25.356214636848087\n",
      "Epoch [60/84], Training Loss: 14.115413461412702\n",
      "Epoch [60/84], Validation Loss: 23.08081010409764\n",
      "Epoch [61/84], Training Loss: 15.85925761290959\n",
      "Epoch [61/84], Validation Loss: 22.06413859128952\n",
      "Epoch [62/84], Training Loss: 13.90183439992723\n",
      "Epoch [62/84], Validation Loss: 23.36903174718221\n",
      "Epoch [63/84], Training Loss: 10.808764497439066\n",
      "Epoch [63/84], Validation Loss: 24.45814643587385\n",
      "Epoch [64/84], Training Loss: 18.11119149128596\n",
      "Epoch [64/84], Validation Loss: 24.29543365750994\n",
      "Epoch [65/84], Training Loss: 13.309714930398124\n",
      "Epoch [65/84], Validation Loss: 18.256260011877334\n",
      "Epoch [66/84], Training Loss: 11.540615853809175\n",
      "Epoch [66/84], Validation Loss: 19.271443060466222\n",
      "Epoch [67/84], Training Loss: 11.862539342471532\n",
      "Epoch [67/84], Validation Loss: 15.735096505710057\n",
      "Epoch [68/84], Training Loss: 14.465741747901554\n",
      "Epoch [68/84], Validation Loss: 25.98155909492856\n",
      "Epoch [69/84], Training Loss: 12.635777161234902\n",
      "Epoch [69/84], Validation Loss: 18.40640872433072\n",
      "Epoch [70/84], Training Loss: 15.342583551293327\n",
      "Epoch [70/84], Validation Loss: 15.518207198097592\n",
      "Epoch [71/84], Training Loss: 14.59106071222396\n",
      "Epoch [71/84], Validation Loss: 16.28829018274943\n",
      "Epoch [72/84], Training Loss: 13.604883046377273\n",
      "Epoch [72/84], Validation Loss: 14.478733812059675\n",
      "Epoch [73/84], Training Loss: 10.994515850430442\n",
      "Epoch [73/84], Validation Loss: 18.74887770698184\n",
      "Epoch [74/84], Training Loss: 22.496169884999592\n",
      "Epoch [74/84], Validation Loss: 17.488943361100695\n",
      "Epoch [75/84], Training Loss: 18.096442228271847\n",
      "Epoch [75/84], Validation Loss: 11.718026978628975\n",
      "Epoch [76/84], Training Loss: 30.668104336375283\n",
      "Epoch [76/84], Validation Loss: 21.075229480153038\n",
      "Epoch [77/84], Training Loss: 13.810756399517967\n",
      "Epoch [77/84], Validation Loss: 19.16057703040895\n",
      "Epoch [78/84], Training Loss: 12.29603240887324\n",
      "Epoch [78/84], Validation Loss: 25.579561165400914\n",
      "Epoch [79/84], Training Loss: 12.652657327197847\n",
      "Epoch [79/84], Validation Loss: 18.315454834983463\n",
      "Epoch [80/84], Training Loss: 16.365653736250742\n",
      "Epoch [80/84], Validation Loss: 20.33817130043393\n",
      "Epoch [81/84], Training Loss: 21.43177242506118\n",
      "Epoch [81/84], Validation Loss: 32.42735753740583\n",
      "Epoch [82/84], Training Loss: 17.9318011261168\n",
      "Epoch [82/84], Validation Loss: 19.068279868080502\n",
      "Epoch [83/84], Training Loss: 12.4347178652173\n",
      "Epoch [83/84], Validation Loss: 21.171978723435174\n",
      "Epoch [84/84], Training Loss: 11.562096851212639\n",
      "Epoch [84/84], Validation Loss: 17.795853143646603\n",
      "tensor(3.1754, grad_fn=<DivBackward0>)\n"
     ]
    },
    {
     "data": {
      "text/plain": [
       "tensor(3.4221, grad_fn=<DivBackward0>)"
      ]
     },
     "execution_count": 24,
     "metadata": {},
     "output_type": "execute_result"
    },
    {
     "data": {
      "image/png": "[encoded data removed]",
      "text/plain": [
       "<Figure size 640x480 with 1 Axes>"
      ]
     },
     "metadata": {},
     "output_type": "display_data"
    },
    {
     "data": {
      "image/png": "[encoded data removed]",
      "text/plain": [
       "<Figure size 640x480 with 1 Axes>"
      ]
     },
     "metadata": {},
     "output_type": "display_data"
    }
   ],
   "source": [
    "#Optimal params: 'lr': 0.004799821565505988, 'batchSize': 26, 'epochs': 84, 'hidden_size': 45\n",
    "# if 'study' in locals():\n",
    "#     print(study.best_params)\n",
    "#     study = study.best_params\n",
    "# else:\n",
    "study={'lr': 0.004799821565505988, 'batchSize': 26, 'epochs': 84, 'hidden_size': 45}\n",
    "model = FlatWeatherMLP(hidden_size=study['hidden_size'])\n",
    "train_model(model, train_data, val_data, lr=study['lr'], batchSize=study['batchSize'], epochs=study['epochs'], plot=True)\n",
    "accuracy(model, data['test'])"
   ]
  },
  {
   "cell_type": "markdown",
   "metadata": {},
   "source": [
    "This linear model achieves an accuracy of an average of 3.05 degrees from the true results when predicting the next day's temperature using the current day's weather data"
   ]
  }
 ],
 "metadata": {
  "kernelspec": {
   "display_name": "Python 3",
   "language": "python",
   "name": "python3"
  },
  "language_info": {
   "codemirror_mode": {
    "name": "ipython",
    "version": 3
   },
   "file_extension": ".py",
   "mimetype": "text/x-python",
   "name": "python",
   "nbconvert_exporter": "python",
   "pygments_lexer": "ipython3",
   "version": "3.12.3"
  }
 },
 "nbformat": 4,
 "nbformat_minor": 2
}
