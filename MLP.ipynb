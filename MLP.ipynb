{
 "cells": [
  {
   "cell_type": "code",
   "execution_count": 1,
   "metadata": {},
   "outputs": [],
   "source": [
    "import torch\n",
    "import torch.nn as nn\n",
    "import torch.optim as optim\n",
    "from torch.utils.data import TensorDataset, DataLoader\n",
    "import numpy as np\n",
    "\n",
    "import dataProcess\n",
    "\n",
    "from datetime import datetime"
   ]
  },
  {
   "cell_type": "code",
   "execution_count": 16,
   "metadata": {},
   "outputs": [
    {
     "name": "stderr",
     "output_type": "stream",
     "text": [
      "c:\\Users\\Blake\\Desktop\\413\\Whether-the-weather-is-ok-CSC413-\\dataProcess.py:47: FutureWarning: DataFrame.interpolate with object dtype is deprecated and will raise in a future version. Call obj.infer_objects(copy=False) before interpolating instead.\n",
      "  df.interpolate()\n"
     ]
    }
   ],
   "source": [
    "hourly = '.\\\\Raw data\\\\ten_year\\\\weatherstats_toronto_hourly.csv'\n",
    "daily = '.\\\\Raw data\\\\ten_year\\\\weatherstats_toronto_daily.csv'\n",
    "start = datetime(2014, 4, 16).date()\n",
    "end = datetime(2024, 4, 10).date()\n",
    "data = dataProcess.generateData(hourly, daily, start, end, 10)"
   ]
  },
  {
   "cell_type": "code",
   "execution_count": 52,
   "metadata": {},
   "outputs": [],
   "source": [
    "class FlatWeatherMLP(nn.Module):\n",
    "    def __init__(self, input_size=312, hidden_size=100):\n",
    "        super(FlatWeatherMLP, self).__init__()\n",
    "        self.inputLayer = nn.Linear(input_size, hidden_size)\n",
    "        self.hiddenLayer = nn.Linear(hidden_size, hidden_size)\n",
    "        self.outputLayer = nn.Linear(hidden_size, 1)\n",
    "        self.relu = nn.ReLU()\n",
    "    \n",
    "    def forward(self, x):\n",
    "        x = x.to(torch.float32)\n",
    "        x = torch.flatten(x, start_dim=1)\n",
    "        # print(x.shape)\n",
    "        x = self.inputLayer(x)\n",
    "        x = self.relu(x)\n",
    "        # print(f'fc1: {x}')\n",
    "        x = self.hiddenLayer(x)\n",
    "        x = self.relu(x)\n",
    "        # print(f'fc2: {x}')\n",
    "        x = self.outputLayer(x)\n",
    "        print(f'fc3: {x}')\n",
    "        print(x)\n",
    "        return x"
   ]
  },
  {
   "cell_type": "code",
   "execution_count": 60,
   "metadata": {},
   "outputs": [
    {
     "name": "stdout",
     "output_type": "stream",
     "text": [
      "fc3: tensor([[ 977.5392],\n",
      "        [1008.0862],\n",
      "        [ 968.3391],\n",
      "        [ 968.7308],\n",
      "        [ 968.2917],\n",
      "        [1066.8903],\n",
      "        [      nan],\n",
      "        [ 750.0786],\n",
      "        [ 968.5808],\n",
      "        [ 967.1386]], grad_fn=<AddmmBackward0>)\n",
      "tensor([[ 977.5392],\n",
      "        [1008.0862],\n",
      "        [ 968.3391],\n",
      "        [ 968.7308],\n",
      "        [ 968.2917],\n",
      "        [1066.8903],\n",
      "        [      nan],\n",
      "        [ 750.0786],\n",
      "        [ 968.5808],\n",
      "        [ 967.1386]], grad_fn=<AddmmBackward0>)\n"
     ]
    },
    {
     "ename": "RuntimeError",
     "evalue": "The size of tensor a (10) must match the size of tensor b (13) at non-singleton dimension 2",
     "output_type": "error",
     "traceback": [
      "\u001b[1;31m---------------------------------------------------------------------------\u001b[0m",
      "\u001b[1;31mRuntimeError\u001b[0m                              Traceback (most recent call last)",
      "Cell \u001b[1;32mIn[60], line 15\u001b[0m\n\u001b[0;32m     12\u001b[0m         totalDiff \u001b[38;5;241m+\u001b[39m\u001b[38;5;241m=\u001b[39m torch\u001b[38;5;241m.\u001b[39msum(torch\u001b[38;5;241m.\u001b[39mabs(target \u001b[38;5;241m-\u001b[39m data))\n\u001b[0;32m     13\u001b[0m     \u001b[38;5;28;01mreturn\u001b[39;00m(totalDiff \u001b[38;5;241m/\u001b[39m count)\n\u001b[1;32m---> 15\u001b[0m \u001b[43maccuracy\u001b[49m\u001b[43m(\u001b[49m\u001b[43mFlatWeatherMLP\u001b[49m\u001b[43m(\u001b[49m\u001b[43m)\u001b[49m\u001b[43m,\u001b[49m\u001b[43m \u001b[49m\u001b[43mdata\u001b[49m\u001b[43m[\u001b[49m\u001b[38;5;124;43m'\u001b[39;49m\u001b[38;5;124;43mtrain\u001b[39;49m\u001b[38;5;124;43m'\u001b[39;49m\u001b[43m]\u001b[49m\u001b[43m)\u001b[49m\n",
      "Cell \u001b[1;32mIn[60], line 12\u001b[0m, in \u001b[0;36maccuracy\u001b[1;34m(model, loader)\u001b[0m\n\u001b[0;32m      9\u001b[0m     z \u001b[38;5;241m=\u001b[39m model(data)\n\u001b[0;32m     10\u001b[0m     \u001b[38;5;66;03m# print(z)\u001b[39;00m\n\u001b[0;32m     11\u001b[0m     \u001b[38;5;66;03m# print(target, z)\u001b[39;00m\n\u001b[1;32m---> 12\u001b[0m     totalDiff \u001b[38;5;241m+\u001b[39m\u001b[38;5;241m=\u001b[39m torch\u001b[38;5;241m.\u001b[39msum(torch\u001b[38;5;241m.\u001b[39mabs(\u001b[43mtarget\u001b[49m\u001b[43m \u001b[49m\u001b[38;5;241;43m-\u001b[39;49m\u001b[43m \u001b[49m\u001b[43mdata\u001b[49m))\n\u001b[0;32m     13\u001b[0m \u001b[38;5;28;01mreturn\u001b[39;00m(totalDiff \u001b[38;5;241m/\u001b[39m count)\n",
      "\u001b[1;31mRuntimeError\u001b[0m: The size of tensor a (10) must match the size of tensor b (13) at non-singleton dimension 2"
     ]
    }
   ],
   "source": [
    "# for d, target in data['train']:\n",
    "#     print(d.dtype)\n",
    "#     print(target.shape)\n",
    "def accuracy(model, loader):\n",
    "    totalDiff = 0.0\n",
    "    count = 0\n",
    "    for data, target in loader:\n",
    "        count = count + 1\n",
    "        z = model(data)\n",
    "        # print(z)\n",
    "        # print(target, z)\n",
    "        totalDiff += torch.sum(torch.abs(target - data))\n",
    "    return(totalDiff / count)\n",
    "\n",
    "accuracy(FlatWeatherMLP(), data['train'])\n",
    "        \n"
   ]
  }
 ],
 "metadata": {
  "kernelspec": {
   "display_name": "Python 3",
   "language": "python",
   "name": "python3"
  },
  "language_info": {
   "codemirror_mode": {
    "name": "ipython",
    "version": 3
   },
   "file_extension": ".py",
   "mimetype": "text/x-python",
   "name": "python",
   "nbconvert_exporter": "python",
   "pygments_lexer": "ipython3",
   "version": "3.12.3"
  }
 },
 "nbformat": 4,
 "nbformat_minor": 2
}
