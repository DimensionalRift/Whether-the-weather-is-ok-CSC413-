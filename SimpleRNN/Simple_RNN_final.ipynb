{
  "cells": [
    {
      "cell_type": "code",
      "execution_count": 1,
      "metadata": {
        "colab": {
          "base_uri": "https://localhost:8080/"
        },
        "id": "2Pm-GTpoheAS",
        "outputId": "b522be0e-2f03-41d7-d05d-b0423353b3df"
      },
      "outputs": [
        {
          "output_type": "stream",
          "name": "stdout",
          "text": [
            "Collecting optuna\n",
            "  Downloading optuna-3.6.1-py3-none-any.whl (380 kB)\n",
            "\u001b[2K     \u001b[90m━━━━━━━━━━━━━━━━━━━━━━━━━━━━━━━━━━━━━━━━\u001b[0m \u001b[32m380.1/380.1 kB\u001b[0m \u001b[31m7.8 MB/s\u001b[0m eta \u001b[36m0:00:00\u001b[0m\n",
            "\u001b[?25hCollecting alembic>=1.5.0 (from optuna)\n",
            "  Downloading alembic-1.13.1-py3-none-any.whl (233 kB)\n",
            "\u001b[2K     \u001b[90m━━━━━━━━━━━━━━━━━━━━━━━━━━━━━━━━━━━━━━━━\u001b[0m \u001b[32m233.4/233.4 kB\u001b[0m \u001b[31m13.6 MB/s\u001b[0m eta \u001b[36m0:00:00\u001b[0m\n",
            "\u001b[?25hCollecting colorlog (from optuna)\n",
            "  Downloading colorlog-6.8.2-py3-none-any.whl (11 kB)\n",
            "Requirement already satisfied: numpy in /usr/local/lib/python3.10/dist-packages (from optuna) (1.25.2)\n",
            "Requirement already satisfied: packaging>=20.0 in /usr/local/lib/python3.10/dist-packages (from optuna) (24.0)\n",
            "Requirement already satisfied: sqlalchemy>=1.3.0 in /usr/local/lib/python3.10/dist-packages (from optuna) (2.0.29)\n",
            "Requirement already satisfied: tqdm in /usr/local/lib/python3.10/dist-packages (from optuna) (4.66.2)\n",
            "Requirement already satisfied: PyYAML in /usr/local/lib/python3.10/dist-packages (from optuna) (6.0.1)\n",
            "Collecting Mako (from alembic>=1.5.0->optuna)\n",
            "  Downloading Mako-1.3.3-py3-none-any.whl (78 kB)\n",
            "\u001b[2K     \u001b[90m━━━━━━━━━━━━━━━━━━━━━━━━━━━━━━━━━━━━━━━━\u001b[0m \u001b[32m78.8/78.8 kB\u001b[0m \u001b[31m11.5 MB/s\u001b[0m eta \u001b[36m0:00:00\u001b[0m\n",
            "\u001b[?25hRequirement already satisfied: typing-extensions>=4 in /usr/local/lib/python3.10/dist-packages (from alembic>=1.5.0->optuna) (4.11.0)\n",
            "Requirement already satisfied: greenlet!=0.4.17 in /usr/local/lib/python3.10/dist-packages (from sqlalchemy>=1.3.0->optuna) (3.0.3)\n",
            "Requirement already satisfied: MarkupSafe>=0.9.2 in /usr/local/lib/python3.10/dist-packages (from Mako->alembic>=1.5.0->optuna) (2.1.5)\n",
            "Installing collected packages: Mako, colorlog, alembic, optuna\n",
            "Successfully installed Mako-1.3.3 alembic-1.13.1 colorlog-6.8.2 optuna-3.6.1\n"
          ]
        }
      ],
      "source": [
        "import torch\n",
        "import torch.nn as nn\n",
        "import torch.optim as optim\n",
        "from torch.utils.data import TensorDataset, DataLoader\n",
        "\n",
        "!pip install optuna\n",
        "import optuna\n",
        "\n",
        "import dataProcess\n",
        "\n",
        "from datetime import datetime\n",
        "\n",
        "import matplotlib.pyplot as plt"
      ]
    },
    {
      "cell_type": "code",
      "execution_count": 2,
      "metadata": {
        "id": "5c0IMWpvhq3z"
      },
      "outputs": [],
      "source": [
        "# data preprocessing\n",
        "\n",
        "#start = datetime(2024, 1, 3).date()\n",
        "#end = datetime(2024, 4, 11).date()\n",
        "#hourly ='weatherstats_toronto_hourly.csv'\n",
        "#daily ='weatherstats_toronto_daily.csv'\n",
        "hourly = 'weatherstats_toronto_hourly_10_yr.csv'\n",
        "daily = 'weatherstats_toronto_daily_10_yr.csv'\n",
        "start = datetime(2014, 4, 15).date()\n",
        "end = datetime(2024, 4, 11).date()\n",
        "data = dataProcess.generateDataNoLoader(hourly, daily, start, end)\n",
        "train_data = data['train']\n",
        "val_data = data['validation']\n",
        "test_data = data['test']"
      ]
    },
    {
      "cell_type": "code",
      "execution_count": 3,
      "metadata": {
        "id": "Jd-w6AS7s-rQ"
      },
      "outputs": [],
      "source": [
        "#accuracy func\n",
        "def accuracy(model, data):\n",
        "    batch_size = 100\n",
        "    totalDiff = 0.0\n",
        "    count = 0\n",
        "    loader = DataLoader(data, batch_size=batch_size)\n",
        "    for data, target in loader:\n",
        "        count = count + len(target)\n",
        "        z = model(data)\n",
        "        totalDiff += torch.sum(torch.abs(target - z))\n",
        "    return(totalDiff / count)\n"
      ]
    },
    {
      "cell_type": "code",
      "execution_count": 4,
      "metadata": {
        "id": "oSVjdNVWhuXs"
      },
      "outputs": [],
      "source": [
        "#define model\n",
        "class MyRNN(nn.Module):\n",
        "    def __init__(self, input_size, hidden_size, output_size):\n",
        "        super(MyRNN, self).__init__()\n",
        "        self.hidden_size = hidden_size\n",
        "        #recurrent layer - stacked once for extra modelling\n",
        "        self.rnn = nn.RNN(input_size=input_size, hidden_size=hidden_size, batch_first=True, num_layers=2)\n",
        "        #fully connected layer - 3 layers\n",
        "        self.fc1 = nn.Linear(hidden_size, hidden_size)\n",
        "        self.fc2 = nn.Linear(hidden_size, int(hidden_size/2))\n",
        "        self.fc3 = nn.Linear(int(hidden_size/2), output_size)\n",
        "        self.relu = nn.ReLU()\n",
        "\n",
        "    def forward(self, X):\n",
        "        # Initialize hidden state\n",
        "        # Forward pass through RNN\n",
        "        X = X.to(torch.float32)\n",
        "        h_0 = torch.zeros(2, X.size(0), self.hidden_size).to(X.device)\n",
        "        #print(X.shape)\n",
        "        output, h_n = self.rnn(X, h_0)\n",
        "        #print(output.shape)\n",
        "        #get output of the RNN at the last timestep\n",
        "        #print(output.shape)\n",
        "        rnn_output_last = output[:,-1,:]\n",
        "        # Apply fully connected layer to the output of the last timestep\n",
        "        out = self.fc1(rnn_output_last)\n",
        "        out = self.relu(out)\n",
        "        out = self.fc2(out)\n",
        "        out = self.relu(out)\n",
        "        out = self.fc3(out)\n",
        "        out = torch.squeeze(out)\n",
        "\n",
        "        return out"
      ]
    },
    {
      "cell_type": "code",
      "execution_count": 5,
      "metadata": {
        "id": "UmBw-baj2FdS"
      },
      "outputs": [],
      "source": [
        "def train_model(model, trainData, valData, lr=.002, batchSize=10, epochs=100, v=True):\n",
        "  train_loader = DataLoader(train_data, batch_size=batchSize, shuffle=False)\n",
        "  val_loader = DataLoader(val_data, batch_size=batchSize, shuffle=False)\n",
        "  optimizer = optim.Adam(model.parameters(), lr=lr)\n",
        "  criterion = nn.MSELoss()\n",
        "  model.train()\n",
        "  for epoch in range(epochs):\n",
        "    total_loss = 0\n",
        "\n",
        "    for inputs, targets in train_loader:\n",
        "\n",
        "      inputs, targets = inputs.float(), targets.float()\n",
        "      optimizer.zero_grad()\n",
        "      outputs = model(inputs)\n",
        "\n",
        "      #print(outputs.shape)\n",
        "\n",
        "      loss = criterion(outputs, targets)\n",
        "      loss.backward()\n",
        "      optimizer.step()\n",
        "      total_loss += loss.item()\n",
        "    if v:\n",
        "      print(f'Epoch [{epoch+1}/{epochs}], Training Loss: {total_loss / len(train_loader):.4f}')\n",
        "\n",
        "    model.eval()\n",
        "    total_val_loss = 0\n",
        "    with torch.no_grad():\n",
        "      for inputs, targets in val_loader:\n",
        "        inputs, targets = inputs.float(), targets.float()\n",
        "        outputs = model(inputs)\n",
        "        loss = criterion(outputs, targets)\n",
        "        total_val_loss += loss.item()\n",
        "    if v:\n",
        "      print(f'Epoch [{epoch+1}/{epochs}], Validation Loss: {total_val_loss / len(val_loader):.4f}')"
      ]
    },
    {
      "cell_type": "code",
      "execution_count": 6,
      "metadata": {
        "colab": {
          "base_uri": "https://localhost:8080/"
        },
        "id": "jjR7ac-S9tTu",
        "outputId": "01e160a5-cc25-4392-badb-b0d31ca58a33"
      },
      "outputs": [
        {
          "output_type": "stream",
          "name": "stderr",
          "text": [
            "[I 2024-04-19 08:30:52,227] A new study created in memory with name: no-name-4bb6063b-0e7d-4421-9b92-aace92c2d815\n"
          ]
        },
        {
          "output_type": "stream",
          "name": "stdout",
          "text": [
            "lr: 0.022113413618888574, batchSize: 50, epochs: 50, hidden_size: 45\n"
          ]
        },
        {
          "output_type": "stream",
          "name": "stderr",
          "text": [
            "[I 2024-04-19 08:31:27,890] Trial 0 finished with value: 9.263215065002441 and parameters: {'lr': 0.022113413618888574, 'batchSize': 50, 'epochs': 50, 'hidden_size': 45}. Best is trial 0 with value: 9.263215065002441.\n"
          ]
        },
        {
          "output_type": "stream",
          "name": "stdout",
          "text": [
            "lr: 0.013602050786288681, batchSize: 99, epochs: 50, hidden_size: 254\n"
          ]
        },
        {
          "output_type": "stream",
          "name": "stderr",
          "text": [
            "[I 2024-04-19 08:33:06,299] Trial 1 finished with value: 9.263501167297363 and parameters: {'lr': 0.013602050786288681, 'batchSize': 99, 'epochs': 50, 'hidden_size': 254}. Best is trial 0 with value: 9.263215065002441.\n"
          ]
        },
        {
          "output_type": "stream",
          "name": "stdout",
          "text": [
            "lr: 0.01575152932095421, batchSize: 64, epochs: 16, hidden_size: 55\n"
          ]
        },
        {
          "output_type": "stream",
          "name": "stderr",
          "text": [
            "[I 2024-04-19 08:33:14,445] Trial 2 finished with value: 9.2637939453125 and parameters: {'lr': 0.01575152932095421, 'batchSize': 64, 'epochs': 16, 'hidden_size': 55}. Best is trial 0 with value: 9.263215065002441.\n"
          ]
        },
        {
          "output_type": "stream",
          "name": "stdout",
          "text": [
            "lr: 0.01547016260010712, batchSize: 29, epochs: 75, hidden_size: 41\n"
          ]
        },
        {
          "output_type": "stream",
          "name": "stderr",
          "text": [
            "[I 2024-04-19 08:34:08,490] Trial 3 finished with value: 9.267550468444824 and parameters: {'lr': 0.01547016260010712, 'batchSize': 29, 'epochs': 75, 'hidden_size': 41}. Best is trial 0 with value: 9.263215065002441.\n"
          ]
        },
        {
          "output_type": "stream",
          "name": "stdout",
          "text": [
            "lr: 0.002607556200042739, batchSize: 70, epochs: 26, hidden_size: 302\n"
          ]
        },
        {
          "output_type": "stream",
          "name": "stderr",
          "text": [
            "[I 2024-04-19 08:39:25,797] Trial 4 finished with value: 9.263850212097168 and parameters: {'lr': 0.002607556200042739, 'batchSize': 70, 'epochs': 26, 'hidden_size': 302}. Best is trial 0 with value: 9.263215065002441.\n"
          ]
        },
        {
          "output_type": "stream",
          "name": "stdout",
          "text": [
            "lr: 0.00891430898716673, batchSize: 18, epochs: 69, hidden_size: 197\n"
          ]
        },
        {
          "output_type": "stream",
          "name": "stderr",
          "text": [
            "[I 2024-04-19 08:42:27,432] Trial 5 finished with value: 9.265021324157715 and parameters: {'lr': 0.00891430898716673, 'batchSize': 18, 'epochs': 69, 'hidden_size': 197}. Best is trial 0 with value: 9.263215065002441.\n"
          ]
        },
        {
          "output_type": "stream",
          "name": "stdout",
          "text": [
            "lr: 0.032842290500392765, batchSize: 35, epochs: 12, hidden_size: 118\n"
          ]
        },
        {
          "output_type": "stream",
          "name": "stderr",
          "text": [
            "[I 2024-04-19 08:42:42,714] Trial 6 finished with value: 9.3302640914917 and parameters: {'lr': 0.032842290500392765, 'batchSize': 35, 'epochs': 12, 'hidden_size': 118}. Best is trial 0 with value: 9.263215065002441.\n"
          ]
        },
        {
          "output_type": "stream",
          "name": "stdout",
          "text": [
            "lr: 0.014180572835145868, batchSize: 100, epochs: 86, hidden_size: 80\n"
          ]
        },
        {
          "output_type": "stream",
          "name": "stderr",
          "text": [
            "[I 2024-04-19 08:43:25,079] Trial 7 finished with value: 9.26347827911377 and parameters: {'lr': 0.014180572835145868, 'batchSize': 100, 'epochs': 86, 'hidden_size': 80}. Best is trial 0 with value: 9.263215065002441.\n"
          ]
        },
        {
          "output_type": "stream",
          "name": "stdout",
          "text": [
            "lr: 0.038879569317355624, batchSize: 26, epochs: 33, hidden_size: 131\n"
          ]
        },
        {
          "output_type": "stream",
          "name": "stderr",
          "text": [
            "[I 2024-04-19 08:44:04,682] Trial 8 finished with value: 9.264240264892578 and parameters: {'lr': 0.038879569317355624, 'batchSize': 26, 'epochs': 33, 'hidden_size': 131}. Best is trial 0 with value: 9.263215065002441.\n"
          ]
        },
        {
          "output_type": "stream",
          "name": "stdout",
          "text": [
            "lr: 0.035889176196171796, batchSize: 51, epochs: 11, hidden_size: 121\n"
          ]
        },
        {
          "output_type": "stream",
          "name": "stderr",
          "text": [
            "[I 2024-04-19 08:44:14,074] Trial 9 finished with value: 9.336017608642578 and parameters: {'lr': 0.035889176196171796, 'batchSize': 51, 'epochs': 11, 'hidden_size': 121}. Best is trial 0 with value: 9.263215065002441.\n"
          ]
        },
        {
          "output_type": "stream",
          "name": "stdout",
          "text": [
            "lr: 0.047772397335956694, batchSize: 6, epochs: 52, hidden_size: 12\n"
          ]
        },
        {
          "output_type": "stream",
          "name": "stderr",
          "text": [
            "/usr/local/lib/python3.10/dist-packages/torch/nn/modules/loss.py:535: UserWarning: Using a target size (torch.Size([1])) that is different to the input size (torch.Size([])). This will likely lead to incorrect results due to broadcasting. Please ensure they have the same size.\n",
            "  return F.mse_loss(input, target, reduction=self.reduction)\n",
            "[I 2024-04-19 08:46:12,948] Trial 10 finished with value: 9.263213157653809 and parameters: {'lr': 0.047772397335956694, 'batchSize': 6, 'epochs': 52, 'hidden_size': 12}. Best is trial 10 with value: 9.263213157653809.\n"
          ]
        },
        {
          "output_type": "stream",
          "name": "stdout",
          "text": [
            "lr: 0.04849921207173211, batchSize: 5, epochs: 49, hidden_size: 10\n"
          ]
        },
        {
          "output_type": "stream",
          "name": "stderr",
          "text": [
            "[I 2024-04-19 08:48:27,684] Trial 11 finished with value: 9.263504981994629 and parameters: {'lr': 0.04849921207173211, 'batchSize': 5, 'epochs': 49, 'hidden_size': 10}. Best is trial 10 with value: 9.263213157653809.\n"
          ]
        },
        {
          "output_type": "stream",
          "name": "stdout",
          "text": [
            "lr: 0.025201634574392322, batchSize: 47, epochs: 61, hidden_size: 10\n"
          ]
        },
        {
          "output_type": "stream",
          "name": "stderr",
          "text": [
            "[I 2024-04-19 08:48:47,691] Trial 12 finished with value: 9.266083717346191 and parameters: {'lr': 0.025201634574392322, 'batchSize': 47, 'epochs': 61, 'hidden_size': 10}. Best is trial 10 with value: 9.263213157653809.\n"
          ]
        },
        {
          "output_type": "stream",
          "name": "stdout",
          "text": [
            "lr: 0.026387565544004333, batchSize: 83, epochs: 100, hidden_size: 188\n"
          ]
        },
        {
          "output_type": "stream",
          "name": "stderr",
          "text": [
            "[I 2024-04-19 08:50:44,646] Trial 13 finished with value: 9.263213157653809 and parameters: {'lr': 0.026387565544004333, 'batchSize': 83, 'epochs': 100, 'hidden_size': 188}. Best is trial 10 with value: 9.263213157653809.\n"
          ]
        },
        {
          "output_type": "stream",
          "name": "stdout",
          "text": [
            "lr: 0.04919316064222471, batchSize: 83, epochs: 100, hidden_size: 192\n"
          ]
        },
        {
          "output_type": "stream",
          "name": "stderr",
          "text": [
            "[I 2024-04-19 08:52:57,003] Trial 14 finished with value: 9.263444900512695 and parameters: {'lr': 0.04919316064222471, 'batchSize': 83, 'epochs': 100, 'hidden_size': 192}. Best is trial 10 with value: 9.263213157653809.\n"
          ]
        },
        {
          "output_type": "stream",
          "name": "stdout",
          "text": [
            "lr: 0.04120815370458664, batchSize: 82, epochs: 99, hidden_size: 235\n"
          ]
        },
        {
          "output_type": "stream",
          "name": "stderr",
          "text": [
            "[I 2024-04-19 08:59:44,062] Trial 15 finished with value: 9.263893127441406 and parameters: {'lr': 0.04120815370458664, 'batchSize': 82, 'epochs': 99, 'hidden_size': 235}. Best is trial 10 with value: 9.263213157653809.\n"
          ]
        },
        {
          "output_type": "stream",
          "name": "stdout",
          "text": [
            "lr: 0.028755514582734582, batchSize: 5, epochs: 35, hidden_size: 165\n"
          ]
        },
        {
          "output_type": "stream",
          "name": "stderr",
          "text": [
            "[I 2024-04-19 09:02:38,184] Trial 16 finished with value: 9.263212203979492 and parameters: {'lr': 0.028755514582734582, 'batchSize': 5, 'epochs': 35, 'hidden_size': 165}. Best is trial 16 with value: 9.263212203979492.\n"
          ]
        },
        {
          "output_type": "stream",
          "name": "stdout",
          "text": [
            "lr: 0.04334211544903248, batchSize: 6, epochs: 37, hidden_size: 150\n"
          ]
        },
        {
          "output_type": "stream",
          "name": "stderr",
          "text": [
            "[I 2024-04-19 09:05:05,240] Trial 17 finished with value: 9.263213157653809 and parameters: {'lr': 0.04334211544903248, 'batchSize': 6, 'epochs': 37, 'hidden_size': 150}. Best is trial 16 with value: 9.263212203979492.\n"
          ]
        },
        {
          "output_type": "stream",
          "name": "stdout",
          "text": [
            "lr: 0.03049636338093286, batchSize: 18, epochs: 38, hidden_size: 87\n"
          ]
        },
        {
          "output_type": "stream",
          "name": "stderr",
          "text": [
            "[I 2024-04-19 09:05:50,638] Trial 18 finished with value: 9.265628814697266 and parameters: {'lr': 0.03049636338093286, 'batchSize': 18, 'epochs': 38, 'hidden_size': 87}. Best is trial 16 with value: 9.263212203979492.\n"
          ]
        },
        {
          "output_type": "stream",
          "name": "stdout",
          "text": [
            "lr: 0.02070693104931251, batchSize: 16, epochs: 60, hidden_size: 236\n"
          ]
        },
        {
          "output_type": "stream",
          "name": "stderr",
          "text": [
            "[I 2024-04-19 09:09:03,108] Trial 19 finished with value: 9.265012741088867 and parameters: {'lr': 0.02070693104931251, 'batchSize': 16, 'epochs': 60, 'hidden_size': 236}. Best is trial 16 with value: 9.263212203979492.\n"
          ]
        },
        {
          "output_type": "stream",
          "name": "stdout",
          "text": [
            "lr: 0.029762866195650453, batchSize: 41, epochs: 24, hidden_size: 165\n"
          ]
        },
        {
          "output_type": "stream",
          "name": "stderr",
          "text": [
            "[I 2024-04-19 09:09:31,752] Trial 20 finished with value: 9.283527374267578 and parameters: {'lr': 0.029762866195650453, 'batchSize': 41, 'epochs': 24, 'hidden_size': 165}. Best is trial 16 with value: 9.263212203979492.\n"
          ]
        },
        {
          "output_type": "stream",
          "name": "stdout",
          "text": [
            "lr: 0.025730980981478982, batchSize: 63, epochs: 83, hidden_size: 188\n"
          ]
        },
        {
          "output_type": "stream",
          "name": "stderr",
          "text": [
            "[I 2024-04-19 09:11:30,320] Trial 21 finished with value: 9.263426780700684 and parameters: {'lr': 0.025730980981478982, 'batchSize': 63, 'epochs': 83, 'hidden_size': 188}. Best is trial 16 with value: 9.263212203979492.\n"
          ]
        },
        {
          "output_type": "stream",
          "name": "stdout",
          "text": [
            "lr: 0.04529662171345804, batchSize: 11, epochs: 42, hidden_size: 168\n"
          ]
        },
        {
          "output_type": "stream",
          "name": "stderr",
          "text": [
            "[I 2024-04-19 09:13:18,053] Trial 22 finished with value: 9.264307975769043 and parameters: {'lr': 0.04529662171345804, 'batchSize': 11, 'epochs': 42, 'hidden_size': 168}. Best is trial 16 with value: 9.263212203979492.\n"
          ]
        },
        {
          "output_type": "stream",
          "name": "stdout",
          "text": [
            "lr: 0.03625758391955413, batchSize: 26, epochs: 61, hidden_size: 224\n"
          ]
        },
        {
          "output_type": "stream",
          "name": "stderr",
          "text": [
            "[I 2024-04-19 09:15:29,086] Trial 23 finished with value: 9.264358520507812 and parameters: {'lr': 0.03625758391955413, 'batchSize': 26, 'epochs': 61, 'hidden_size': 224}. Best is trial 16 with value: 9.263212203979492.\n"
          ]
        },
        {
          "output_type": "stream",
          "name": "stdout",
          "text": [
            "lr: 0.027723040950757134, batchSize: 84, epochs: 29, hidden_size: 286\n"
          ]
        },
        {
          "output_type": "stream",
          "name": "stderr",
          "text": [
            "[I 2024-04-19 09:16:33,186] Trial 24 finished with value: 9.266412734985352 and parameters: {'lr': 0.027723040950757134, 'batchSize': 84, 'epochs': 29, 'hidden_size': 286}. Best is trial 16 with value: 9.263212203979492.\n"
          ]
        },
        {
          "output_type": "stream",
          "name": "stdout",
          "text": [
            "lr: 0.020803115561130785, batchSize: 74, epochs: 71, hidden_size: 205\n"
          ]
        },
        {
          "output_type": "stream",
          "name": "stderr",
          "text": [
            "[I 2024-04-19 09:18:26,655] Trial 25 finished with value: 9.264663696289062 and parameters: {'lr': 0.020803115561130785, 'batchSize': 74, 'epochs': 71, 'hidden_size': 205}. Best is trial 16 with value: 9.263212203979492.\n"
          ]
        },
        {
          "output_type": "stream",
          "name": "stdout",
          "text": [
            "lr: 0.03394538632203899, batchSize: 59, epochs: 44, hidden_size: 96\n"
          ]
        },
        {
          "output_type": "stream",
          "name": "stderr",
          "text": [
            "[I 2024-04-19 09:18:52,950] Trial 26 finished with value: 9.263215065002441 and parameters: {'lr': 0.03394538632203899, 'batchSize': 59, 'epochs': 44, 'hidden_size': 96}. Best is trial 16 with value: 9.263212203979492.\n"
          ]
        },
        {
          "output_type": "stream",
          "name": "stdout",
          "text": [
            "lr: 0.03853901215506954, batchSize: 91, epochs: 90, hidden_size: 138\n"
          ]
        },
        {
          "output_type": "stream",
          "name": "stderr",
          "text": [
            "[I 2024-04-19 09:20:49,085] Trial 27 finished with value: 9.263214111328125 and parameters: {'lr': 0.03853901215506954, 'batchSize': 91, 'epochs': 90, 'hidden_size': 138}. Best is trial 16 with value: 9.263212203979492.\n"
          ]
        },
        {
          "output_type": "stream",
          "name": "stdout",
          "text": [
            "lr: 0.006097482167356463, batchSize: 38, epochs: 20, hidden_size: 264\n"
          ]
        },
        {
          "output_type": "stream",
          "name": "stderr",
          "text": [
            "[I 2024-04-19 09:23:06,179] Trial 28 finished with value: 9.299357414245605 and parameters: {'lr': 0.006097482167356463, 'batchSize': 38, 'epochs': 20, 'hidden_size': 264}. Best is trial 16 with value: 9.263212203979492.\n"
          ]
        },
        {
          "output_type": "stream",
          "name": "stdout",
          "text": [
            "lr: 0.024156365828907757, batchSize: 12, epochs: 53, hidden_size: 174\n"
          ]
        },
        {
          "output_type": "stream",
          "name": "stderr",
          "text": [
            "[I 2024-04-19 09:25:28,053] Trial 29 finished with value: 9.265778541564941 and parameters: {'lr': 0.024156365828907757, 'batchSize': 12, 'epochs': 53, 'hidden_size': 174}. Best is trial 16 with value: 9.263212203979492.\n"
          ]
        },
        {
          "output_type": "stream",
          "name": "stdout",
          "text": [
            "lr: 0.021594501758183258, batchSize: 23, epochs: 53, hidden_size: 106\n"
          ]
        },
        {
          "output_type": "stream",
          "name": "stderr",
          "text": [
            "[I 2024-04-19 09:26:34,896] Trial 30 finished with value: 9.265196800231934 and parameters: {'lr': 0.021594501758183258, 'batchSize': 23, 'epochs': 53, 'hidden_size': 106}. Best is trial 16 with value: 9.263212203979492.\n"
          ]
        },
        {
          "output_type": "stream",
          "name": "stdout",
          "text": [
            "lr: 0.04240292532171738, batchSize: 5, epochs: 35, hidden_size: 148\n"
          ]
        },
        {
          "output_type": "stream",
          "name": "stderr",
          "text": [
            "[I 2024-04-19 09:29:19,898] Trial 31 finished with value: 9.428756713867188 and parameters: {'lr': 0.04240292532171738, 'batchSize': 5, 'epochs': 35, 'hidden_size': 148}. Best is trial 16 with value: 9.263212203979492.\n"
          ]
        },
        {
          "output_type": "stream",
          "name": "stdout",
          "text": [
            "lr: 0.045214846296987965, batchSize: 11, epochs: 45, hidden_size: 153\n"
          ]
        },
        {
          "output_type": "stream",
          "name": "stderr",
          "text": [
            "[I 2024-04-19 09:31:12,135] Trial 32 finished with value: 9.264310836791992 and parameters: {'lr': 0.045214846296987965, 'batchSize': 11, 'epochs': 45, 'hidden_size': 153}. Best is trial 16 with value: 9.263212203979492.\n"
          ]
        },
        {
          "output_type": "stream",
          "name": "stdout",
          "text": [
            "lr: 0.046512775007611966, batchSize: 6, epochs: 39, hidden_size: 57\n"
          ]
        },
        {
          "output_type": "stream",
          "name": "stderr",
          "text": [
            "[I 2024-04-19 09:32:58,472] Trial 33 finished with value: 9.263212203979492 and parameters: {'lr': 0.046512775007611966, 'batchSize': 6, 'epochs': 39, 'hidden_size': 57}. Best is trial 16 with value: 9.263212203979492.\n"
          ]
        },
        {
          "output_type": "stream",
          "name": "stdout",
          "text": [
            "lr: 0.01797725151118259, batchSize: 18, epochs: 55, hidden_size: 44\n"
          ]
        },
        {
          "output_type": "stream",
          "name": "stderr",
          "text": [
            "[I 2024-04-19 09:33:49,738] Trial 34 finished with value: 9.265419960021973 and parameters: {'lr': 0.01797725151118259, 'batchSize': 18, 'epochs': 55, 'hidden_size': 44}. Best is trial 16 with value: 9.263212203979492.\n"
          ]
        },
        {
          "output_type": "stream",
          "name": "stdout",
          "text": [
            "lr: 0.04715485859984415, batchSize: 31, epochs: 47, hidden_size: 66\n"
          ]
        },
        {
          "output_type": "stream",
          "name": "stderr",
          "text": [
            "[I 2024-04-19 09:34:25,608] Trial 35 finished with value: 9.265061378479004 and parameters: {'lr': 0.04715485859984415, 'batchSize': 31, 'epochs': 47, 'hidden_size': 66}. Best is trial 16 with value: 9.263212203979492.\n"
          ]
        },
        {
          "output_type": "stream",
          "name": "stdout",
          "text": [
            "lr: 0.009702534953323946, batchSize: 93, epochs: 6, hidden_size: 29\n"
          ]
        },
        {
          "output_type": "stream",
          "name": "stderr",
          "text": [
            "[I 2024-04-19 09:34:27,033] Trial 36 finished with value: 9.26323127746582 and parameters: {'lr': 0.009702534953323946, 'batchSize': 93, 'epochs': 6, 'hidden_size': 29}. Best is trial 16 with value: 9.263212203979492.\n"
          ]
        },
        {
          "output_type": "stream",
          "name": "stdout",
          "text": [
            "lr: 0.040226727855027004, batchSize: 45, epochs: 28, hidden_size: 61\n"
          ]
        },
        {
          "output_type": "stream",
          "name": "stderr",
          "text": [
            "[I 2024-04-19 09:34:41,137] Trial 37 finished with value: 9.270304679870605 and parameters: {'lr': 0.040226727855027004, 'batchSize': 45, 'epochs': 28, 'hidden_size': 61}. Best is trial 16 with value: 9.263212203979492.\n"
          ]
        },
        {
          "output_type": "stream",
          "name": "stdout",
          "text": [
            "lr: 0.03154522264941908, batchSize: 55, epochs: 67, hidden_size: 216\n"
          ]
        },
        {
          "output_type": "stream",
          "name": "stderr",
          "text": [
            "[I 2024-04-19 09:36:25,737] Trial 38 finished with value: 9.264822006225586 and parameters: {'lr': 0.03154522264941908, 'batchSize': 55, 'epochs': 67, 'hidden_size': 216}. Best is trial 16 with value: 9.263212203979492.\n"
          ]
        },
        {
          "output_type": "stream",
          "name": "stdout",
          "text": [
            "lr: 0.017482370045717115, batchSize: 10, epochs: 39, hidden_size: 31\n"
          ]
        },
        {
          "output_type": "stream",
          "name": "stderr",
          "text": [
            "[I 2024-04-19 09:37:27,394] Trial 39 finished with value: 9.26809310913086 and parameters: {'lr': 0.017482370045717115, 'batchSize': 10, 'epochs': 39, 'hidden_size': 31}. Best is trial 16 with value: 9.263212203979492.\n"
          ]
        },
        {
          "output_type": "stream",
          "name": "stdout",
          "text": [
            "lr: 0.027732839202725134, batchSize: 73, epochs: 76, hidden_size: 32\n"
          ]
        },
        {
          "output_type": "stream",
          "name": "stderr",
          "text": [
            "[I 2024-04-19 09:37:55,415] Trial 40 finished with value: 9.263212203979492 and parameters: {'lr': 0.027732839202725134, 'batchSize': 73, 'epochs': 76, 'hidden_size': 32}. Best is trial 16 with value: 9.263212203979492.\n"
          ]
        },
        {
          "output_type": "stream",
          "name": "stdout",
          "text": [
            "lr: 0.02833221403183922, batchSize: 72, epochs: 80, hidden_size: 28\n"
          ]
        },
        {
          "output_type": "stream",
          "name": "stderr",
          "text": [
            "[I 2024-04-19 09:38:26,389] Trial 41 finished with value: 9.263339042663574 and parameters: {'lr': 0.02833221403183922, 'batchSize': 72, 'epochs': 80, 'hidden_size': 28}. Best is trial 16 with value: 9.263212203979492.\n"
          ]
        },
        {
          "output_type": "stream",
          "name": "stdout",
          "text": [
            "lr: 0.03471790695618877, batchSize: 79, epochs: 94, hidden_size: 70\n"
          ]
        },
        {
          "output_type": "stream",
          "name": "stderr",
          "text": [
            "[I 2024-04-19 09:39:13,269] Trial 42 finished with value: 9.263240814208984 and parameters: {'lr': 0.03471790695618877, 'batchSize': 79, 'epochs': 94, 'hidden_size': 70}. Best is trial 16 with value: 9.263212203979492.\n"
          ]
        },
        {
          "output_type": "stream",
          "name": "stdout",
          "text": [
            "lr: 0.036940849464627064, batchSize: 90, epochs: 77, hidden_size: 51\n"
          ]
        },
        {
          "output_type": "stream",
          "name": "stderr",
          "text": [
            "[I 2024-04-19 09:39:39,663] Trial 43 finished with value: 9.263347625732422 and parameters: {'lr': 0.036940849464627064, 'batchSize': 90, 'epochs': 77, 'hidden_size': 51}. Best is trial 16 with value: 9.263212203979492.\n"
          ]
        },
        {
          "output_type": "stream",
          "name": "stdout",
          "text": [
            "lr: 0.02351670885060203, batchSize: 64, epochs: 57, hidden_size: 21\n"
          ]
        },
        {
          "output_type": "stream",
          "name": "stderr",
          "text": [
            "[I 2024-04-19 09:40:00,309] Trial 44 finished with value: 9.263213157653809 and parameters: {'lr': 0.02351670885060203, 'batchSize': 64, 'epochs': 57, 'hidden_size': 21}. Best is trial 16 with value: 9.263212203979492.\n"
          ]
        },
        {
          "output_type": "stream",
          "name": "stdout",
          "text": [
            "lr: 0.0268557871918918, batchSize: 77, epochs: 67, hidden_size: 40\n"
          ]
        },
        {
          "output_type": "stream",
          "name": "stderr",
          "text": [
            "[I 2024-04-19 09:40:25,022] Trial 45 finished with value: 9.263545036315918 and parameters: {'lr': 0.0268557871918918, 'batchSize': 77, 'epochs': 67, 'hidden_size': 40}. Best is trial 16 with value: 9.263212203979492.\n"
          ]
        },
        {
          "output_type": "stream",
          "name": "stdout",
          "text": [
            "lr: 0.04962457516622681, batchSize: 95, epochs: 74, hidden_size: 181\n"
          ]
        },
        {
          "output_type": "stream",
          "name": "stderr",
          "text": [
            "[I 2024-04-19 09:41:49,930] Trial 46 finished with value: 9.264162063598633 and parameters: {'lr': 0.04962457516622681, 'batchSize': 95, 'epochs': 74, 'hidden_size': 181}. Best is trial 16 with value: 9.263212203979492.\n"
          ]
        },
        {
          "output_type": "stream",
          "name": "stdout",
          "text": [
            "lr: 0.04680489056985309, batchSize: 22, epochs: 87, hidden_size: 111\n"
          ]
        },
        {
          "output_type": "stream",
          "name": "stderr",
          "text": [
            "[I 2024-04-19 09:43:36,537] Trial 47 finished with value: 9.265055656433105 and parameters: {'lr': 0.04680489056985309, 'batchSize': 22, 'epochs': 87, 'hidden_size': 111}. Best is trial 16 with value: 9.263212203979492.\n"
          ]
        },
        {
          "output_type": "stream",
          "name": "stdout",
          "text": [
            "lr: 0.03269573076436322, batchSize: 87, epochs: 32, hidden_size: 10\n"
          ]
        },
        {
          "output_type": "stream",
          "name": "stderr",
          "text": [
            "[I 2024-04-19 09:43:43,335] Trial 48 finished with value: 9.263152122497559 and parameters: {'lr': 0.03269573076436322, 'batchSize': 87, 'epochs': 32, 'hidden_size': 10}. Best is trial 48 with value: 9.263152122497559.\n"
          ]
        },
        {
          "output_type": "stream",
          "name": "stdout",
          "text": [
            "lr: 0.032217644553960485, batchSize: 68, epochs: 30, hidden_size: 14\n"
          ]
        },
        {
          "output_type": "stream",
          "name": "stderr",
          "text": [
            "[I 2024-04-19 09:43:51,814] Trial 49 finished with value: 9.263215065002441 and parameters: {'lr': 0.032217644553960485, 'batchSize': 68, 'epochs': 30, 'hidden_size': 14}. Best is trial 48 with value: 9.263152122497559.\n"
          ]
        }
      ],
      "source": [
        "def objective(trial):\n",
        "    lr = trial.suggest_float('lr', .001, .05)\n",
        "    batchSize = trial.suggest_int('batchSize', 5, 100)\n",
        "    epochs = trial.suggest_int('epochs', 5, 100)\n",
        "    hidden_size = trial.suggest_int('hidden_size', 10, 312)\n",
        "    model = MyRNN(hidden_size=hidden_size, input_size = 13, output_size = 1)\n",
        "    print(f'lr: {lr}, batchSize: {batchSize}, epochs: {epochs}, hidden_size: {hidden_size}')\n",
        "    train_model(model, train_data, val_data, lr=lr, batchSize=batchSize, epochs=epochs, v=False)\n",
        "    return accuracy(model, data['validation'])\n",
        "\n",
        "study = optuna.create_study(direction='minimize')\n",
        "study.optimize(objective, n_trials=50)"
      ]
    },
    {
      "cell_type": "code",
      "execution_count": 7,
      "metadata": {
        "colab": {
          "base_uri": "https://localhost:8080/"
        },
        "id": "MjnC7PPN9t6B",
        "outputId": "02ad902f-fe51-4684-f088-1e48e883002b"
      },
      "outputs": [
        {
          "output_type": "stream",
          "name": "stdout",
          "text": [
            "{'lr': 0.03269573076436322, 'batchSize': 87, 'epochs': 32, 'hidden_size': 10}\n",
            "Epoch [1/32], Training Loss: 138.1064\n",
            "Epoch [1/32], Validation Loss: 112.1168\n",
            "Epoch [2/32], Training Loss: 120.2243\n",
            "Epoch [2/32], Validation Loss: 108.8353\n",
            "Epoch [3/32], Training Loss: 117.2203\n",
            "Epoch [3/32], Validation Loss: 108.8371\n",
            "Epoch [4/32], Training Loss: 117.4130\n",
            "Epoch [4/32], Validation Loss: 108.8482\n",
            "Epoch [5/32], Training Loss: 117.4081\n",
            "Epoch [5/32], Validation Loss: 108.8389\n",
            "Epoch [6/32], Training Loss: 117.3574\n",
            "Epoch [6/32], Validation Loss: 108.8408\n",
            "Epoch [7/32], Training Loss: 117.3542\n",
            "Epoch [7/32], Validation Loss: 108.8396\n",
            "Epoch [8/32], Training Loss: 117.3387\n",
            "Epoch [8/32], Validation Loss: 108.8393\n",
            "Epoch [9/32], Training Loss: 117.3288\n",
            "Epoch [9/32], Validation Loss: 108.8389\n",
            "Epoch [10/32], Training Loss: 117.3193\n",
            "Epoch [10/32], Validation Loss: 108.8386\n",
            "Epoch [11/32], Training Loss: 117.3108\n",
            "Epoch [11/32], Validation Loss: 108.8383\n",
            "Epoch [12/32], Training Loss: 117.3029\n",
            "Epoch [12/32], Validation Loss: 108.8380\n",
            "Epoch [13/32], Training Loss: 117.2954\n",
            "Epoch [13/32], Validation Loss: 108.8378\n",
            "Epoch [14/32], Training Loss: 117.2882\n",
            "Epoch [14/32], Validation Loss: 108.8375\n",
            "Epoch [15/32], Training Loss: 117.2814\n",
            "Epoch [15/32], Validation Loss: 108.8373\n",
            "Epoch [16/32], Training Loss: 117.2748\n",
            "Epoch [16/32], Validation Loss: 108.8371\n",
            "Epoch [17/32], Training Loss: 117.2683\n",
            "Epoch [17/32], Validation Loss: 108.8369\n",
            "Epoch [18/32], Training Loss: 117.2620\n",
            "Epoch [18/32], Validation Loss: 108.8367\n",
            "Epoch [19/32], Training Loss: 117.2559\n",
            "Epoch [19/32], Validation Loss: 108.8365\n",
            "Epoch [20/32], Training Loss: 117.2498\n",
            "Epoch [20/32], Validation Loss: 108.8363\n",
            "Epoch [21/32], Training Loss: 117.2438\n",
            "Epoch [21/32], Validation Loss: 108.8361\n",
            "Epoch [22/32], Training Loss: 117.2379\n",
            "Epoch [22/32], Validation Loss: 108.8359\n",
            "Epoch [23/32], Training Loss: 117.2321\n",
            "Epoch [23/32], Validation Loss: 108.8358\n",
            "Epoch [24/32], Training Loss: 117.2263\n",
            "Epoch [24/32], Validation Loss: 108.8356\n",
            "Epoch [25/32], Training Loss: 117.2205\n",
            "Epoch [25/32], Validation Loss: 108.8354\n",
            "Epoch [26/32], Training Loss: 117.2148\n",
            "Epoch [26/32], Validation Loss: 108.8352\n",
            "Epoch [27/32], Training Loss: 117.2092\n",
            "Epoch [27/32], Validation Loss: 108.8351\n",
            "Epoch [28/32], Training Loss: 117.2035\n",
            "Epoch [28/32], Validation Loss: 108.8349\n",
            "Epoch [29/32], Training Loss: 117.1979\n",
            "Epoch [29/32], Validation Loss: 108.8348\n",
            "Epoch [30/32], Training Loss: 117.1923\n",
            "Epoch [30/32], Validation Loss: 108.8346\n",
            "Epoch [31/32], Training Loss: 117.1868\n",
            "Epoch [31/32], Validation Loss: 108.8345\n",
            "Epoch [32/32], Training Loss: 117.1812\n",
            "Epoch [32/32], Validation Loss: 108.8343\n",
            "tensor(8.3845, grad_fn=<DivBackward0>)\n"
          ]
        }
      ],
      "source": [
        "\n",
        "print(study.best_params)\n",
        "\n",
        "model = MyRNN(hidden_size=study.best_params['hidden_size'], input_size = 13, output_size = 1)\n",
        "train_model(model, train_data, val_data, lr=study.best_params['lr'], batchSize=study.best_params['batchSize'], epochs=study.best_params['epochs'])\n",
        "#{'lr': 0.03269573076436322, 'batchSize': 87, 'epochs': 32, 'hidden_size': 10}\n",
        "print(accuracy(model, data['test']))\n",
        "torch.save(model, 'model.pt')#save model data\n",
        "\n"
      ]
    },
    {
      "cell_type": "code",
      "execution_count": 8,
      "metadata": {
        "id": "T50Sog0Nh0eQ"
      },
      "outputs": [],
      "source": [
        "def collect_data(model, data_loader, device):\n",
        "  model.eval()\n",
        "  total_mae = 0\n",
        "  count = 0\n",
        "  predictions = []\n",
        "  actuals = []\n",
        "\n",
        "\n",
        "  with torch.no_grad():\n",
        "    for inputs, targets in data_loader:\n",
        "      inputs, targets = inputs.to(device), targets.to(device)\n",
        "      inputs, targets = inputs.float(), targets.float()\n",
        "      outputs = model(inputs)\n",
        "      count += 1\n",
        "\n",
        "      predictions.extend(outputs.view(-1).detach().cpu().numpy())\n",
        "      actuals.extend(targets.view(-1).detach().cpu().numpy())\n",
        "\n",
        "\n",
        "  return predictions, actuals\n",
        "\n",
        "device = torch.device('cuda' if torch.cuda.is_available() else 'cpu')\n",
        "model.to(device)\n",
        "batchSize= 7\n",
        "test_loader = DataLoader(test_data, batch_size=batchSize, shuffle=False)\n",
        "predictions, actuals = collect_data(model, test_loader, device)"
      ]
    },
    {
      "cell_type": "code",
      "execution_count": 9,
      "metadata": {
        "colab": {
          "base_uri": "https://localhost:8080/",
          "height": 564
        },
        "id": "VBYQSTC8gb7T",
        "outputId": "b653df87-3fe6-46a6-f817-e5717f71175f"
      },
      "outputs": [
        {
          "output_type": "display_data",
          "data": {
            "text/plain": [
              "<Figure size 1000x600 with 1 Axes>"
            ],
            "image/png": "[encoded data removed]"
          },
          "metadata": {}
        }
      ],
      "source": [
        "def plot_predictions_vs_actuals(predictions, actuals):\n",
        "  plt.figure(figsize=(10, 6))\n",
        "  plt.plot(actuals, label='Actual Temperatures', color='blue', marker='o', linestyle='')\n",
        "  plt.plot(predictions, label='Predicted Temperatures', color='red', linestyle='--', marker='x')\n",
        "  plt.title('Comparison of Predicted and Actual Temperatures')\n",
        "  plt.xlabel('Samples')\n",
        "  plt.ylabel('Temperature')\n",
        "  plt.legend()\n",
        "  plt.grid(True)\n",
        "  plt.show()\n",
        "\n",
        "plot_predictions_vs_actuals(predictions, actuals)"
      ]
    }
  ],
  "metadata": {
    "accelerator": "GPU",
    "colab": {
      "gpuType": "T4",
      "provenance": []
    },
    "kernelspec": {
      "display_name": "Python 3",
      "name": "python3"
    },
    "language_info": {
      "name": "python"
    }
  },
  "nbformat": 4,
  "nbformat_minor": 0
}