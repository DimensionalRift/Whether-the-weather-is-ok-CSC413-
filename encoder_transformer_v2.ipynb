{
  "cells": [
    {
      "cell_type": "code",
      "execution_count": 1,
      "metadata": {
        "colab": {
          "base_uri": "https://localhost:8080/"
        },
        "id": "zOWzQ173w-eN",
        "outputId": "49612e73-eac5-46fc-badc-8a2d8017fcc4"
      },
      "outputs": [
        {
          "name": "stdout",
          "output_type": "stream",
          "text": [
            "Collecting optuna\n",
            "  Downloading optuna-3.6.1-py3-none-any.whl (380 kB)\n",
            "\u001b[2K     \u001b[90m━━━━━━━━━━━━━━━━━━━━━━━━━━━━━━━━━━━━━━━━\u001b[0m \u001b[32m380.1/380.1 kB\u001b[0m \u001b[31m2.5 MB/s\u001b[0m eta \u001b[36m0:00:00\u001b[0m\n",
            "\u001b[?25hCollecting alembic>=1.5.0 (from optuna)\n",
            "  Downloading alembic-1.13.1-py3-none-any.whl (233 kB)\n",
            "\u001b[2K     \u001b[90m━━━━━━━━━━━━━━━━━━━━━━━━━━━━━━━━━━━━━━━━\u001b[0m \u001b[32m233.4/233.4 kB\u001b[0m \u001b[31m10.3 MB/s\u001b[0m eta \u001b[36m0:00:00\u001b[0m\n",
            "\u001b[?25hCollecting colorlog (from optuna)\n",
            "  Downloading colorlog-6.8.2-py3-none-any.whl (11 kB)\n",
            "Requirement already satisfied: numpy in /usr/local/lib/python3.10/dist-packages (from optuna) (1.25.2)\n",
            "Requirement already satisfied: packaging>=20.0 in /usr/local/lib/python3.10/dist-packages (from optuna) (24.0)\n",
            "Requirement already satisfied: sqlalchemy>=1.3.0 in /usr/local/lib/python3.10/dist-packages (from optuna) (2.0.29)\n",
            "Requirement already satisfied: tqdm in /usr/local/lib/python3.10/dist-packages (from optuna) (4.66.2)\n",
            "Requirement already satisfied: PyYAML in /usr/local/lib/python3.10/dist-packages (from optuna) (6.0.1)\n",
            "Collecting Mako (from alembic>=1.5.0->optuna)\n",
            "  Downloading Mako-1.3.3-py3-none-any.whl (78 kB)\n",
            "\u001b[2K     \u001b[90m━━━━━━━━━━━━━━━━━━━━━━━━━━━━━━━━━━━━━━━━\u001b[0m \u001b[32m78.8/78.8 kB\u001b[0m \u001b[31m4.4 MB/s\u001b[0m eta \u001b[36m0:00:00\u001b[0m\n",
            "\u001b[?25hRequirement already satisfied: typing-extensions>=4 in /usr/local/lib/python3.10/dist-packages (from alembic>=1.5.0->optuna) (4.11.0)\n",
            "Requirement already satisfied: greenlet!=0.4.17 in /usr/local/lib/python3.10/dist-packages (from sqlalchemy>=1.3.0->optuna) (3.0.3)\n",
            "Requirement already satisfied: MarkupSafe>=0.9.2 in /usr/local/lib/python3.10/dist-packages (from Mako->alembic>=1.5.0->optuna) (2.1.5)\n",
            "Installing collected packages: Mako, colorlog, alembic, optuna\n",
            "Successfully installed Mako-1.3.3 alembic-1.13.1 colorlog-6.8.2 optuna-3.6.1\n"
          ]
        }
      ],
      "source": [
        "!pip install optuna"
      ]
    },
    {
      "cell_type": "code",
      "execution_count": 15,
      "metadata": {
        "id": "BKhrJPTWLywi"
      },
      "outputs": [],
      "source": [
        "import torch\n",
        "import torch.nn as nn\n",
        "import torch.optim as optim\n",
        "from torch.utils.data import TensorDataset, DataLoader\n",
        "\n",
        "import dataProcess\n",
        "\n",
        "from datetime import datetime\n",
        "import matplotlib.pyplot as plt\n",
        "import optuna\n",
        "import numpy as np"
      ]
    },
    {
      "cell_type": "code",
      "execution_count": 3,
      "metadata": {
        "id": "C5u5zAw7L9Jq"
      },
      "outputs": [],
      "source": [
        "def nan_to_above(data):\n",
        "  for i in range(data.shape[0]):\n",
        "    for j in range(data.shape[1]):\n",
        "      for k in range(data.shape[2]):\n",
        "        if torch.isnan(data[i, j, k]):\n",
        "          if j == 0:\n",
        "            data[i, j, k] = 0\n",
        "          else:\n",
        "            data[i, j, k] = data[i, j-1, k]"
      ]
    },
    {
      "cell_type": "code",
      "execution_count": 4,
      "metadata": {
        "id": "KddEbf0NL-s8"
      },
      "outputs": [],
      "source": [
        "# data preprocessing\n",
        "\n",
        "# 2014-04-16\n",
        "start = datetime(2014, 4, 16).date()\n",
        "# 2024-04-11\n",
        "end = datetime(2024, 4, 11).date()\n",
        "hourly_path ='weatherstats_toronto_hourly.csv'\n",
        "daily_path ='weatherstats_toronto_daily.csv'\n",
        "\n",
        "# data\n",
        "data_tensor_preprocess = dataProcess.dataToTensorHourly(hourly_path, separateByDay=False, missingThreshold=0.1, columnToDelete=['wind_dir', 'unixtime'], start=start, end=end)\n",
        "data_tensor_preprocess_r = torch.flip(data_tensor_preprocess[0], dims=[0])"
      ]
    },
    {
      "cell_type": "code",
      "execution_count": 23,
      "metadata": {
        "colab": {
          "base_uri": "https://localhost:8080/"
        },
        "id": "lisBuZHYx7Nh",
        "outputId": "2a206d9f-2814-449f-eff0-c52c0f076c77"
      },
      "outputs": [
        {
          "name": "stdout",
          "output_type": "stream",
          "text": [
            "torch.Size([3648, 24, 13])\n",
            "tensor([ 0.0000e+00,  1.0011e+02,  1.0228e+02,  3.0000e+01,  2.7000e+01,\n",
            "         5.7000e+01, -1.2400e+01, -5.1000e+00,  2.4100e+04,  0.0000e+00,\n",
            "        -4.9000e+00, -5.1000e+00,  1.0500e+02], dtype=torch.float64)\n",
            "tensor([ 2.3000e+01,  1.0126e+02,  1.0344e+02,  1.5000e+01,  4.0000e+00,\n",
            "         6.1000e+01, -6.3000e+00,  4.0000e-01,  2.4100e+04,  2.0000e+00,\n",
            "         7.0000e-01,  4.0000e-01,  1.0500e+02], dtype=torch.float64)\n"
          ]
        }
      ],
      "source": [
        "data = data_tensor_preprocess_r[:-7].reshape(-1, 24, 13)\n",
        "nan_to_above(data)\n",
        "print(data.shape)\n",
        "print(data[0][0])\n",
        "print(data[0][-1])"
      ]
    },
    {
      "cell_type": "code",
      "execution_count": 24,
      "metadata": {
        "colab": {
          "base_uri": "https://localhost:8080/"
        },
        "id": "NbmnIYLsyMFs",
        "outputId": "6de7351e-4023-457f-d195-e3f4d2c84f58"
      },
      "outputs": [
        {
          "name": "stdout",
          "output_type": "stream",
          "text": [
            "torch.Size([3648])\n",
            "tensor(3.7500, dtype=torch.float64)\n",
            "tensor(11.1500, dtype=torch.float64)\n"
          ]
        }
      ],
      "source": [
        "# targets\n",
        "targets_1 = dataProcess.dailyTargets(daily_path, start=datetime(2014, 4, 17).date())\n",
        "targets = torch.flip(targets_1, dims=[0])\n",
        "print(targets.shape)\n",
        "print(targets[0])\n",
        "print(targets[-1])"
      ]
    },
    {
      "cell_type": "code",
      "execution_count": 40,
      "metadata": {
        "id": "n3xJAO6GMCfJ"
      },
      "outputs": [],
      "source": [
        "def process_data_for_transformer(train_fraction, valid_fraction, data, targets, batch_size):\n",
        "\n",
        "  train_dataset = TensorDataset(data, targets)\n",
        "  total_size = len(data)\n",
        "  train_split_point = int(total_size * train_fraction)\n",
        "  valid_split_point = train_split_point + int(total_size * valid_fraction)\n",
        "\n",
        "  train_dataset = TensorDataset(data[:train_split_point], targets[:train_split_point])\n",
        "  val_dataset = TensorDataset(data[train_split_point:valid_split_point],\n",
        "                              targets[train_split_point:valid_split_point])\n",
        "  test_dataset = TensorDataset(data[valid_split_point:], targets[valid_split_point:])\n",
        "\n",
        "  train_loader = DataLoader(train_dataset, batch_size=batch_size, shuffle=False)\n",
        "  val_loader = DataLoader(val_dataset, batch_size=batch_size, shuffle=False)\n",
        "  test_loader = DataLoader(test_dataset, batch_size=batch_size, shuffle=False)\n",
        "\n",
        "  return train_loader, val_loader, test_loader\n",
        "\n",
        "train_loader, val_loader, test_loader = process_data_for_transformer(0.34, 0.3, data, targets, 2048)"
      ]
    },
    {
      "cell_type": "code",
      "execution_count": 26,
      "metadata": {
        "id": "LZPYotY98-U5"
      },
      "outputs": [],
      "source": [
        "class WeatherPredictorTransformer(nn.Module):\n",
        "  def __init__(self, input_size, d_model, nhead, num_encoder_layers, output_size, dropout_rate):\n",
        "    super(WeatherPredictorTransformer, self).__init__()\n",
        "    self.embedding = nn.Linear(input_size, d_model)\n",
        "    self.positional_encoding = nn.Parameter(self.create_sinusoidal_positional_encoding(24, d_model), requires_grad=False)\n",
        "    self.encoder_layer = nn.TransformerEncoderLayer(d_model=d_model, nhead=nhead, dropout=dropout_rate)\n",
        "    self.transformer_encoder = nn.TransformerEncoder(self.encoder_layer, num_layers=num_encoder_layers)\n",
        "    self.output_linear = nn.Linear(d_model, output_size)\n",
        "\n",
        "  def forward(self, x):\n",
        "    x = self.embedding(x)\n",
        "    x += self.positional_encoding[:x.size(1), :]\n",
        "    x = x.permute(1, 0, 2)  # Transformer expects [seq_len, batch_size, features]\n",
        "    encoder_output = self.transformer_encoder(x)\n",
        "    prediction = self.output_linear(encoder_output[-1])\n",
        "    return prediction\n",
        "\n",
        "  @staticmethod\n",
        "  def create_sinusoidal_positional_encoding(length, d_model):\n",
        "    PE = torch.zeros(length, d_model)\n",
        "    position = torch.arange(0, length, dtype=torch.float).unsqueeze(1)\n",
        "    div_term = torch.exp(torch.arange(0, d_model, 2).float() * -(np.log(10000.0) / d_model))\n",
        "    PE[:, 0::2] = torch.sin(position * div_term)\n",
        "    PE[:, 1::2] = torch.cos(position * div_term)\n",
        "    return PE\n"
      ]
    },
    {
      "cell_type": "code",
      "execution_count": 34,
      "metadata": {
        "colab": {
          "base_uri": "https://localhost:8080/"
        },
        "id": "uI5KbL7V0kGJ",
        "outputId": "6192ba65-34dd-46aa-f370-8e37fb9d3a80"
      },
      "outputs": [
        {
          "name": "stderr",
          "output_type": "stream",
          "text": [
            "[I 2024-04-18 06:33:48,743] A new study created in memory with name: no-name-3828af8d-ed84-4a8d-8f5c-0fefe6788e32\n",
            "<ipython-input-34-6104c1009bfc>:35: FutureWarning: suggest_uniform has been deprecated in v3.0.0. This feature will be removed in v6.0.0. See https://github.com/optuna/optuna/releases/tag/v3.0.0. Use suggest_float instead.\n",
            "  dropout_rate = trial.suggest_uniform('dropout_rate', 0.0, 0.3)\n",
            "[I 2024-04-18 06:33:52,315] Trial 0 finished with value: 136.39418029785156 and parameters: {'d_model': 64, 'nhead': 4, 'num_encoder_layers': 3, 'dropout_rate': 0.19535055815179594, 'lr': 0.00013556456333667244}. Best is trial 0 with value: 136.39418029785156.\n",
            "[I 2024-04-18 06:33:56,245] Trial 1 finished with value: 131.65707397460938 and parameters: {'d_model': 64, 'nhead': 4, 'num_encoder_layers': 4, 'dropout_rate': 0.267225081292365, 'lr': 0.0005169816532192858}. Best is trial 1 with value: 131.65707397460938.\n",
            "[I 2024-04-18 06:34:00,767] Trial 2 finished with value: 135.91018676757812 and parameters: {'d_model': 64, 'nhead': 8, 'num_encoder_layers': 4, 'dropout_rate': 0.0067244277948885324, 'lr': 7.801714608794993e-05}. Best is trial 1 with value: 131.65707397460938.\n",
            "[I 2024-04-18 06:34:03,285] Trial 3 finished with value: 141.66619873046875 and parameters: {'d_model': 128, 'nhead': 8, 'num_encoder_layers': 1, 'dropout_rate': 0.2624716771926824, 'lr': 3.1437520885828655e-05}. Best is trial 1 with value: 131.65707397460938.\n",
            "[I 2024-04-18 06:34:05,415] Trial 4 finished with value: 136.98825073242188 and parameters: {'d_model': 64, 'nhead': 8, 'num_encoder_layers': 1, 'dropout_rate': 0.2350607873148714, 'lr': 8.772713706308981e-05}. Best is trial 1 with value: 131.65707397460938.\n",
            "[I 2024-04-18 06:34:09,584] Trial 5 finished with value: 140.8809814453125 and parameters: {'d_model': 128, 'nhead': 4, 'num_encoder_layers': 3, 'dropout_rate': 0.03713781828474592, 'lr': 1.2406775152783996e-05}. Best is trial 1 with value: 131.65707397460938.\n",
            "[I 2024-04-18 06:34:11,682] Trial 6 finished with value: 129.90269470214844 and parameters: {'d_model': 64, 'nhead': 4, 'num_encoder_layers': 1, 'dropout_rate': 0.1798588143668655, 'lr': 0.0006400125232672554}. Best is trial 6 with value: 129.90269470214844.\n",
            "[I 2024-04-18 06:34:16,568] Trial 7 finished with value: 123.59964752197266 and parameters: {'d_model': 256, 'nhead': 4, 'num_encoder_layers': 2, 'dropout_rate': 0.12007576329761804, 'lr': 0.0005241871922282025}. Best is trial 7 with value: 123.59964752197266.\n",
            "[I 2024-04-18 06:34:19,065] Trial 8 finished with value: 122.4434814453125 and parameters: {'d_model': 128, 'nhead': 8, 'num_encoder_layers': 1, 'dropout_rate': 0.17232632563405134, 'lr': 0.00021997111582588755}. Best is trial 8 with value: 122.4434814453125.\n",
            "[I 2024-04-18 06:34:21,380] Trial 9 finished with value: 123.90860748291016 and parameters: {'d_model': 128, 'nhead': 8, 'num_encoder_layers': 1, 'dropout_rate': 0.12921544913760402, 'lr': 0.00020910116458636198}. Best is trial 8 with value: 122.4434814453125.\n",
            "[I 2024-04-18 06:34:26,637] Trial 10 finished with value: 165.98776245117188 and parameters: {'d_model': 256, 'nhead': 8, 'num_encoder_layers': 2, 'dropout_rate': 0.07592341885649888, 'lr': 3.722084672340554e-06}. Best is trial 8 with value: 122.4434814453125.\n",
            "[I 2024-04-18 06:34:31,466] Trial 11 finished with value: 123.81964111328125 and parameters: {'d_model': 256, 'nhead': 4, 'num_encoder_layers': 2, 'dropout_rate': 0.11195597188399437, 'lr': 0.0007851291607988906}. Best is trial 8 with value: 122.4434814453125.\n",
            "[I 2024-04-18 06:34:36,456] Trial 12 finished with value: 183.36634826660156 and parameters: {'d_model': 256, 'nhead': 4, 'num_encoder_layers': 2, 'dropout_rate': 0.14809051976353005, 'lr': 1.0537909822362886e-06}. Best is trial 8 with value: 122.4434814453125.\n",
            "[I 2024-04-18 06:34:41,466] Trial 13 finished with value: 123.13116455078125 and parameters: {'d_model': 256, 'nhead': 8, 'num_encoder_layers': 2, 'dropout_rate': 0.0906463439126145, 'lr': 0.00028256049165897775}. Best is trial 8 with value: 122.4434814453125.\n",
            "[I 2024-04-18 06:34:45,816] Trial 14 finished with value: 125.82982635498047 and parameters: {'d_model': 128, 'nhead': 8, 'num_encoder_layers': 3, 'dropout_rate': 0.06528781648893832, 'lr': 2.848907135643407e-05}. Best is trial 8 with value: 122.4434814453125.\n",
            "[I 2024-04-18 06:34:49,184] Trial 15 finished with value: 123.63911437988281 and parameters: {'d_model': 256, 'nhead': 8, 'num_encoder_layers': 1, 'dropout_rate': 0.19739301450376387, 'lr': 0.00023684571007071041}. Best is trial 8 with value: 122.4434814453125.\n",
            "[I 2024-04-18 06:34:52,801] Trial 16 finished with value: 125.13091278076172 and parameters: {'d_model': 128, 'nhead': 8, 'num_encoder_layers': 2, 'dropout_rate': 0.09735860562901927, 'lr': 5.9122721935118803e-05}. Best is trial 8 with value: 122.4434814453125.\n",
            "[I 2024-04-18 06:34:56,043] Trial 17 finished with value: 123.62860870361328 and parameters: {'d_model': 256, 'nhead': 8, 'num_encoder_layers': 1, 'dropout_rate': 0.16534273261908378, 'lr': 0.0002687575902047383}. Best is trial 8 with value: 122.4434814453125.\n",
            "[I 2024-04-18 06:34:59,350] Trial 18 finished with value: 145.935546875 and parameters: {'d_model': 128, 'nhead': 8, 'num_encoder_layers': 2, 'dropout_rate': 0.29700513626035896, 'lr': 1.1365739426104817e-05}. Best is trial 8 with value: 122.4434814453125.\n",
            "[I 2024-04-18 06:35:06,183] Trial 19 finished with value: 123.82212829589844 and parameters: {'d_model': 256, 'nhead': 8, 'num_encoder_layers': 3, 'dropout_rate': 0.21792294110586627, 'lr': 0.0002763219166506496}. Best is trial 8 with value: 122.4434814453125.\n",
            "[I 2024-04-18 06:35:08,465] Trial 20 finished with value: 124.2386245727539 and parameters: {'d_model': 128, 'nhead': 8, 'num_encoder_layers': 1, 'dropout_rate': 0.14885492698489128, 'lr': 0.00013524004274846884}. Best is trial 8 with value: 122.4434814453125.\n",
            "[W 2024-04-18 06:35:13,334] Trial 21 failed with parameters: {'d_model': 256, 'nhead': 4, 'num_encoder_layers': 2, 'dropout_rate': 0.09341532188487, 'lr': 0.0004975900214118509} because of the following error: The value nan is not acceptable.\n",
            "[W 2024-04-18 06:35:13,339] Trial 21 failed with value nan.\n",
            "[W 2024-04-18 06:35:18,286] Trial 22 failed with parameters: {'d_model': 256, 'nhead': 4, 'num_encoder_layers': 2, 'dropout_rate': 0.09069950483743429, 'lr': 0.0009587067581278011} because of the following error: The value nan is not acceptable.\n",
            "[W 2024-04-18 06:35:18,287] Trial 22 failed with value nan.\n",
            "[I 2024-04-18 06:35:23,106] Trial 23 finished with value: 123.51272583007812 and parameters: {'d_model': 256, 'nhead': 4, 'num_encoder_layers': 2, 'dropout_rate': 0.09272853032752895, 'lr': 0.000984238535303241}. Best is trial 8 with value: 122.4434814453125.\n",
            "[I 2024-04-18 06:35:28,031] Trial 24 finished with value: 123.44083404541016 and parameters: {'d_model': 256, 'nhead': 4, 'num_encoder_layers': 2, 'dropout_rate': 0.08163153467693283, 'lr': 0.0009617860553146353}. Best is trial 8 with value: 122.4434814453125.\n",
            "[I 2024-04-18 06:35:32,875] Trial 25 finished with value: 122.85181427001953 and parameters: {'d_model': 256, 'nhead': 4, 'num_encoder_layers': 2, 'dropout_rate': 0.047008099536427886, 'lr': 0.0003901874746009491}. Best is trial 8 with value: 122.4434814453125.\n",
            "[I 2024-04-18 06:35:39,446] Trial 26 finished with value: 122.5668716430664 and parameters: {'d_model': 256, 'nhead': 8, 'num_encoder_layers': 3, 'dropout_rate': 0.04514551946429123, 'lr': 0.00030772119365734103}. Best is trial 8 with value: 122.4434814453125.\n",
            "[I 2024-04-18 06:35:46,162] Trial 27 finished with value: 122.82365417480469 and parameters: {'d_model': 256, 'nhead': 8, 'num_encoder_layers': 3, 'dropout_rate': 0.04241578453109275, 'lr': 0.00042180280164286736}. Best is trial 8 with value: 122.4434814453125.\n",
            "[I 2024-04-18 06:35:51,694] Trial 28 finished with value: 125.22350311279297 and parameters: {'d_model': 128, 'nhead': 8, 'num_encoder_layers': 4, 'dropout_rate': 0.0022972536032017724, 'lr': 0.00014793316430360145}. Best is trial 8 with value: 122.4434814453125.\n",
            "[I 2024-04-18 06:35:58,357] Trial 29 finished with value: 121.139404296875 and parameters: {'d_model': 256, 'nhead': 8, 'num_encoder_layers': 3, 'dropout_rate': 0.024891128143769255, 'lr': 5.5176110089301155e-05}. Best is trial 29 with value: 121.139404296875.\n",
            "[I 2024-04-18 06:36:05,097] Trial 30 finished with value: 121.56327056884766 and parameters: {'d_model': 256, 'nhead': 8, 'num_encoder_layers': 3, 'dropout_rate': 0.020014216141954293, 'lr': 4.9819932198679196e-05}. Best is trial 29 with value: 121.139404296875.\n",
            "[I 2024-04-18 06:36:09,915] Trial 31 finished with value: 133.2144012451172 and parameters: {'d_model': 128, 'nhead': 8, 'num_encoder_layers': 3, 'dropout_rate': 0.020621792136913595, 'lr': 1.6779551820112553e-05}. Best is trial 29 with value: 121.139404296875.\n",
            "[I 2024-04-18 06:36:14,030] Trial 32 finished with value: 137.5885009765625 and parameters: {'d_model': 64, 'nhead': 8, 'num_encoder_layers': 4, 'dropout_rate': 0.19391427342379325, 'lr': 4.8153227152559435e-05}. Best is trial 29 with value: 121.139404296875.\n",
            "[I 2024-04-18 06:36:20,890] Trial 33 finished with value: 121.5943374633789 and parameters: {'d_model': 256, 'nhead': 8, 'num_encoder_layers': 3, 'dropout_rate': 0.02535000943491772, 'lr': 0.00012841573451622624}. Best is trial 29 with value: 121.139404296875.\n",
            "[I 2024-04-18 06:36:27,296] Trial 34 finished with value: 121.4203872680664 and parameters: {'d_model': 256, 'nhead': 8, 'num_encoder_layers': 3, 'dropout_rate': 0.0260229644388344, 'lr': 0.0001188635126547195}. Best is trial 29 with value: 121.139404296875.\n",
            "[I 2024-04-18 06:36:34,178] Trial 35 finished with value: 121.71232604980469 and parameters: {'d_model': 256, 'nhead': 8, 'num_encoder_layers': 3, 'dropout_rate': 0.024393544531096437, 'lr': 0.00010397273913016907}. Best is trial 29 with value: 121.139404296875.\n",
            "[I 2024-04-18 06:36:42,712] Trial 36 finished with value: 121.2029037475586 and parameters: {'d_model': 256, 'nhead': 8, 'num_encoder_layers': 4, 'dropout_rate': 0.06109605595689507, 'lr': 4.689796322872731e-05}. Best is trial 29 with value: 121.139404296875.\n",
            "[I 2024-04-18 06:36:50,995] Trial 37 finished with value: 121.28079223632812 and parameters: {'d_model': 256, 'nhead': 8, 'num_encoder_layers': 4, 'dropout_rate': 0.06274768612334455, 'lr': 4.890521602761394e-05}. Best is trial 29 with value: 121.139404296875.\n",
            "[I 2024-04-18 06:36:59,295] Trial 38 finished with value: 120.91088104248047 and parameters: {'d_model': 256, 'nhead': 8, 'num_encoder_layers': 4, 'dropout_rate': 0.06058709130808568, 'lr': 1.9936173526251267e-05}. Best is trial 38 with value: 120.91088104248047.\n",
            "[I 2024-04-18 06:37:03,616] Trial 39 finished with value: 144.61212158203125 and parameters: {'d_model': 64, 'nhead': 8, 'num_encoder_layers': 4, 'dropout_rate': 0.062942311222627, 'lr': 1.9709067288839957e-05}. Best is trial 38 with value: 120.91088104248047.\n",
            "[I 2024-04-18 06:37:11,911] Trial 40 finished with value: 130.6452178955078 and parameters: {'d_model': 256, 'nhead': 8, 'num_encoder_layers': 4, 'dropout_rate': 0.06346196688735865, 'lr': 6.2893766295133216e-06}. Best is trial 38 with value: 120.91088104248047.\n",
            "[I 2024-04-18 06:37:16,234] Trial 41 finished with value: 139.09141540527344 and parameters: {'d_model': 64, 'nhead': 8, 'num_encoder_layers': 4, 'dropout_rate': 0.10770981442463293, 'lr': 3.3437644808355065e-05}. Best is trial 38 with value: 120.91088104248047.\n",
            "[I 2024-04-18 06:37:24,543] Trial 42 finished with value: 121.03274536132812 and parameters: {'d_model': 256, 'nhead': 8, 'num_encoder_layers': 4, 'dropout_rate': 0.05439847366680943, 'lr': 6.535187003966062e-05}. Best is trial 38 with value: 120.91088104248047.\n",
            "[I 2024-04-18 06:37:33,052] Trial 43 finished with value: 121.44432830810547 and parameters: {'d_model': 256, 'nhead': 8, 'num_encoder_layers': 4, 'dropout_rate': 0.05382213967685162, 'lr': 6.841609905002036e-05}. Best is trial 38 with value: 120.91088104248047.\n",
            "[I 2024-04-18 06:37:41,205] Trial 44 finished with value: 120.9452896118164 and parameters: {'d_model': 256, 'nhead': 8, 'num_encoder_layers': 4, 'dropout_rate': 0.07634611394050386, 'lr': 3.736706883361354e-05}. Best is trial 38 with value: 120.91088104248047.\n",
            "[I 2024-04-18 06:37:49,761] Trial 45 finished with value: 121.12334442138672 and parameters: {'d_model': 256, 'nhead': 8, 'num_encoder_layers': 4, 'dropout_rate': 0.1302473968913819, 'lr': 3.274595011893425e-05}. Best is trial 38 with value: 120.91088104248047.\n",
            "[I 2024-04-18 06:37:58,154] Trial 46 finished with value: 120.81964111328125 and parameters: {'d_model': 256, 'nhead': 8, 'num_encoder_layers': 4, 'dropout_rate': 0.08032363256209746, 'lr': 2.5535655975818642e-05}. Best is trial 46 with value: 120.81964111328125.\n",
            "[I 2024-04-18 06:38:06,312] Trial 47 finished with value: 129.51353454589844 and parameters: {'d_model': 256, 'nhead': 8, 'num_encoder_layers': 4, 'dropout_rate': 0.13178593727127677, 'lr': 8.861440546205612e-06}. Best is trial 46 with value: 120.81964111328125.\n",
            "[I 2024-04-18 06:38:14,851] Trial 48 finished with value: 120.88473510742188 and parameters: {'d_model': 256, 'nhead': 8, 'num_encoder_layers': 4, 'dropout_rate': 0.07912487030233614, 'lr': 2.343694581163745e-05}. Best is trial 46 with value: 120.81964111328125.\n",
            "[I 2024-04-18 06:38:23,178] Trial 49 finished with value: 120.86835479736328 and parameters: {'d_model': 256, 'nhead': 8, 'num_encoder_layers': 4, 'dropout_rate': 0.07614765283727781, 'lr': 2.1326840935102476e-05}. Best is trial 46 with value: 120.81964111328125.\n",
            "[I 2024-04-18 06:38:27,315] Trial 50 finished with value: 142.75537109375 and parameters: {'d_model': 64, 'nhead': 4, 'num_encoder_layers': 4, 'dropout_rate': 0.07512434557443286, 'lr': 2.105340922236362e-05}. Best is trial 46 with value: 120.81964111328125.\n",
            "[I 2024-04-18 06:38:35,644] Trial 51 finished with value: 140.2001953125 and parameters: {'d_model': 256, 'nhead': 8, 'num_encoder_layers': 4, 'dropout_rate': 0.10371648608181071, 'lr': 4.755303574883619e-06}. Best is trial 46 with value: 120.81964111328125.\n",
            "[I 2024-04-18 06:38:44,070] Trial 52 finished with value: 123.04167175292969 and parameters: {'d_model': 256, 'nhead': 8, 'num_encoder_layers': 4, 'dropout_rate': 0.12228499320837614, 'lr': 1.350244190752919e-05}. Best is trial 46 with value: 120.81964111328125.\n",
            "[I 2024-04-18 06:38:52,335] Trial 53 finished with value: 120.91699981689453 and parameters: {'d_model': 256, 'nhead': 8, 'num_encoder_layers': 4, 'dropout_rate': 0.07863737811081735, 'lr': 2.4496351516061255e-05}. Best is trial 46 with value: 120.81964111328125.\n",
            "[I 2024-04-18 06:39:00,814] Trial 54 finished with value: 120.81227111816406 and parameters: {'d_model': 256, 'nhead': 8, 'num_encoder_layers': 4, 'dropout_rate': 0.08586711552501532, 'lr': 2.2781531813863127e-05}. Best is trial 54 with value: 120.81227111816406.\n",
            "[I 2024-04-18 06:39:09,031] Trial 55 finished with value: 120.83588409423828 and parameters: {'d_model': 256, 'nhead': 8, 'num_encoder_layers': 4, 'dropout_rate': 0.08453658478765175, 'lr': 2.4337862288672432e-05}. Best is trial 54 with value: 120.81227111816406.\n",
            "[I 2024-04-18 06:39:17,476] Trial 56 finished with value: 122.34477996826172 and parameters: {'d_model': 256, 'nhead': 8, 'num_encoder_layers': 4, 'dropout_rate': 0.08876394668158576, 'lr': 1.4517924722507082e-05}. Best is trial 54 with value: 120.81227111816406.\n",
            "[I 2024-04-18 06:39:25,897] Trial 57 finished with value: 127.14604187011719 and parameters: {'d_model': 256, 'nhead': 8, 'num_encoder_layers': 4, 'dropout_rate': 0.11442170729893618, 'lr': 8.854411055714252e-06}. Best is trial 54 with value: 120.81227111816406.\n",
            "[I 2024-04-18 06:39:34,353] Trial 58 finished with value: 126.48664855957031 and parameters: {'d_model': 256, 'nhead': 8, 'num_encoder_layers': 4, 'dropout_rate': 0.1009106994161853, 'lr': 9.254337452161105e-06}. Best is trial 54 with value: 120.81227111816406.\n",
            "[I 2024-04-18 06:39:42,332] Trial 59 finished with value: 120.813232421875 and parameters: {'d_model': 256, 'nhead': 4, 'num_encoder_layers': 4, 'dropout_rate': 0.08617862677667003, 'lr': 2.240392246110909e-05}. Best is trial 54 with value: 120.81227111816406.\n",
            "[I 2024-04-18 06:39:50,641] Trial 60 finished with value: 120.82305145263672 and parameters: {'d_model': 256, 'nhead': 4, 'num_encoder_layers': 4, 'dropout_rate': 0.0873059647160946, 'lr': 2.5492085719143768e-05}. Best is trial 54 with value: 120.81227111816406.\n",
            "[I 2024-04-18 06:39:58,679] Trial 61 finished with value: 164.2232208251953 and parameters: {'d_model': 256, 'nhead': 4, 'num_encoder_layers': 4, 'dropout_rate': 0.0888835244661326, 'lr': 2.8147912483265127e-06}. Best is trial 54 with value: 120.81227111816406.\n",
            "[I 2024-04-18 06:40:03,027] Trial 62 finished with value: 141.10862731933594 and parameters: {'d_model': 64, 'nhead': 4, 'num_encoder_layers': 4, 'dropout_rate': 0.13931222112685204, 'lr': 2.6522281727119977e-05}. Best is trial 54 with value: 120.81227111816406.\n",
            "[I 2024-04-18 06:40:11,061] Trial 63 finished with value: 120.8824462890625 and parameters: {'d_model': 256, 'nhead': 4, 'num_encoder_layers': 4, 'dropout_rate': 0.07237584944620609, 'lr': 1.6972566834115103e-05}. Best is trial 54 with value: 120.81227111816406.\n",
            "[I 2024-04-18 06:40:19,281] Trial 64 finished with value: 121.48751068115234 and parameters: {'d_model': 256, 'nhead': 4, 'num_encoder_layers': 4, 'dropout_rate': 0.09706985160374987, 'lr': 1.6354805381685353e-05}. Best is trial 54 with value: 120.81227111816406.\n",
            "[I 2024-04-18 06:40:27,585] Trial 65 finished with value: 123.71721649169922 and parameters: {'d_model': 256, 'nhead': 4, 'num_encoder_layers': 4, 'dropout_rate': 0.034146713464955035, 'lr': 1.186338523986398e-05}. Best is trial 54 with value: 120.81227111816406.\n",
            "[I 2024-04-18 06:40:35,947] Trial 66 finished with value: 120.89224243164062 and parameters: {'d_model': 256, 'nhead': 4, 'num_encoder_layers': 4, 'dropout_rate': 0.1164167514060267, 'lr': 3.961562650294644e-05}. Best is trial 54 with value: 120.81227111816406.\n",
            "[I 2024-04-18 06:40:43,954] Trial 67 finished with value: 120.81112670898438 and parameters: {'d_model': 256, 'nhead': 4, 'num_encoder_layers': 4, 'dropout_rate': 0.07227862766031731, 'lr': 2.8100789220517466e-05}. Best is trial 67 with value: 120.81112670898438.\n",
            "[I 2024-04-18 06:40:52,241] Trial 68 finished with value: 120.88967895507812 and parameters: {'d_model': 256, 'nhead': 4, 'num_encoder_layers': 4, 'dropout_rate': 0.08885315011910205, 'lr': 2.885464846716018e-05}. Best is trial 67 with value: 120.81112670898438.\n",
            "[I 2024-04-18 06:41:00,464] Trial 69 finished with value: 121.4006118774414 and parameters: {'d_model': 256, 'nhead': 4, 'num_encoder_layers': 4, 'dropout_rate': 0.1623570128047715, 'lr': 8.661512417617724e-05}. Best is trial 67 with value: 120.81112670898438.\n",
            "[I 2024-04-18 06:41:06,048] Trial 70 finished with value: 124.65998840332031 and parameters: {'d_model': 128, 'nhead': 4, 'num_encoder_layers': 4, 'dropout_rate': 0.0519406655882991, 'lr': 4.047138318653082e-05}. Best is trial 67 with value: 120.81112670898438.\n",
            "[I 2024-04-18 06:41:12,355] Trial 71 finished with value: 120.84141540527344 and parameters: {'d_model': 256, 'nhead': 4, 'num_encoder_layers': 3, 'dropout_rate': 0.0712314358147898, 'lr': 2.8253826867535527e-05}. Best is trial 67 with value: 120.81112670898438.\n",
            "[I 2024-04-18 06:41:19,118] Trial 72 finished with value: 121.10460662841797 and parameters: {'d_model': 256, 'nhead': 4, 'num_encoder_layers': 3, 'dropout_rate': 0.037218101785246774, 'lr': 3.0171641913113213e-05}. Best is trial 67 with value: 120.81112670898438.\n",
            "[I 2024-04-18 06:41:27,262] Trial 73 finished with value: 120.81307220458984 and parameters: {'d_model': 256, 'nhead': 4, 'num_encoder_layers': 4, 'dropout_rate': 0.06975253885324743, 'lr': 2.298691211885069e-05}. Best is trial 67 with value: 120.81112670898438.\n",
            "[I 2024-04-18 06:41:33,564] Trial 74 finished with value: 121.19192504882812 and parameters: {'d_model': 256, 'nhead': 4, 'num_encoder_layers': 3, 'dropout_rate': 0.10647380478411027, 'lr': 1.741220112565384e-05}. Best is trial 67 with value: 120.81112670898438.\n",
            "[I 2024-04-18 06:41:41,844] Trial 75 finished with value: 120.8145980834961 and parameters: {'d_model': 256, 'nhead': 4, 'num_encoder_layers': 4, 'dropout_rate': 0.07057957767429478, 'lr': 2.6273605209164028e-05}. Best is trial 67 with value: 120.81112670898438.\n",
            "[I 2024-04-18 06:41:49,793] Trial 76 finished with value: 123.1597671508789 and parameters: {'d_model': 256, 'nhead': 4, 'num_encoder_layers': 4, 'dropout_rate': 0.08668921462207742, 'lr': 1.048336543844289e-05}. Best is trial 67 with value: 120.81112670898438.\n",
            "[I 2024-04-18 06:41:58,053] Trial 77 finished with value: 129.54847717285156 and parameters: {'d_model': 256, 'nhead': 4, 'num_encoder_layers': 4, 'dropout_rate': 0.06667500916462887, 'lr': 6.974645305838129e-06}. Best is trial 67 with value: 120.81112670898438.\n",
            "[I 2024-04-18 06:42:06,366] Trial 78 finished with value: 122.79805755615234 and parameters: {'d_model': 256, 'nhead': 4, 'num_encoder_layers': 4, 'dropout_rate': 0.08355238460075277, 'lr': 1.430378050103644e-05}. Best is trial 67 with value: 120.81112670898438.\n",
            "[I 2024-04-18 06:42:11,666] Trial 79 finished with value: 127.8218994140625 and parameters: {'d_model': 128, 'nhead': 4, 'num_encoder_layers': 4, 'dropout_rate': 0.04208759919992005, 'lr': 4.010285044795585e-05}. Best is trial 67 with value: 120.81112670898438.\n",
            "[I 2024-04-18 06:42:19,790] Trial 80 finished with value: 120.81598663330078 and parameters: {'d_model': 256, 'nhead': 4, 'num_encoder_layers': 4, 'dropout_rate': 0.09497892870199373, 'lr': 2.21154453597786e-05}. Best is trial 67 with value: 120.81112670898438.\n",
            "[I 2024-04-18 06:42:27,953] Trial 81 finished with value: 120.81363677978516 and parameters: {'d_model': 256, 'nhead': 4, 'num_encoder_layers': 4, 'dropout_rate': 0.09646886149538805, 'lr': 3.4769731810211935e-05}. Best is trial 67 with value: 120.81112670898438.\n",
            "[I 2024-04-18 06:42:31,966] Trial 82 finished with value: 137.6404266357422 and parameters: {'d_model': 64, 'nhead': 4, 'num_encoder_layers': 4, 'dropout_rate': 0.09687156559665003, 'lr': 6.682096408996909e-05}. Best is trial 67 with value: 120.81112670898438.\n",
            "[I 2024-04-18 06:42:40,749] Trial 83 finished with value: 120.86302185058594 and parameters: {'d_model': 256, 'nhead': 4, 'num_encoder_layers': 4, 'dropout_rate': 0.2516336880580494, 'lr': 3.356844202439934e-05}. Best is trial 67 with value: 120.81112670898438.\n",
            "[I 2024-04-18 06:42:48,734] Trial 84 finished with value: 121.27542877197266 and parameters: {'d_model': 256, 'nhead': 4, 'num_encoder_layers': 4, 'dropout_rate': 0.12274812643724578, 'lr': 1.898463588626055e-05}. Best is trial 67 with value: 120.81112670898438.\n",
            "[I 2024-04-18 06:42:57,034] Trial 85 finished with value: 120.87123107910156 and parameters: {'d_model': 256, 'nhead': 4, 'num_encoder_layers': 4, 'dropout_rate': 0.10805724278404988, 'lr': 2.3848538108904386e-05}. Best is trial 67 with value: 120.81112670898438.\n",
            "[I 2024-04-18 06:43:05,081] Trial 86 finished with value: 120.87239074707031 and parameters: {'d_model': 256, 'nhead': 4, 'num_encoder_layers': 4, 'dropout_rate': 0.05373617112975321, 'lr': 4.583897357571e-05}. Best is trial 67 with value: 120.81112670898438.\n",
            "[I 2024-04-18 06:43:13,213] Trial 87 finished with value: 120.91230010986328 and parameters: {'d_model': 256, 'nhead': 4, 'num_encoder_layers': 4, 'dropout_rate': 0.09745152912550754, 'lr': 5.622169740910654e-05}. Best is trial 67 with value: 120.81112670898438.\n",
            "[I 2024-04-18 06:43:21,351] Trial 88 finished with value: 121.14479064941406 and parameters: {'d_model': 256, 'nhead': 4, 'num_encoder_layers': 4, 'dropout_rate': 0.06933449394710864, 'lr': 3.3945336340408054e-05}. Best is trial 67 with value: 120.81112670898438.\n",
            "[I 2024-04-18 06:43:29,722] Trial 89 finished with value: 121.80779266357422 and parameters: {'d_model': 256, 'nhead': 4, 'num_encoder_layers': 4, 'dropout_rate': 0.0932419888079846, 'lr': 1.4946875166003935e-05}. Best is trial 67 with value: 120.81112670898438.\n",
            "[I 2024-04-18 06:43:37,714] Trial 90 finished with value: 120.81754302978516 and parameters: {'d_model': 256, 'nhead': 4, 'num_encoder_layers': 4, 'dropout_rate': 0.012201667328460161, 'lr': 2.074449104099997e-05}. Best is trial 67 with value: 120.81112670898438.\n",
            "[I 2024-04-18 06:43:48,194] Trial 91 finished with value: 121.01097106933594 and parameters: {'d_model': 256, 'nhead': 4, 'num_encoder_layers': 4, 'dropout_rate': 0.033037271665661595, 'lr': 1.989115570286244e-05}. Best is trial 67 with value: 120.81112670898438.\n",
            "[I 2024-04-18 06:43:56,638] Trial 92 finished with value: 121.60020446777344 and parameters: {'d_model': 256, 'nhead': 4, 'num_encoder_layers': 4, 'dropout_rate': 0.011428051977619246, 'lr': 1.221045268126923e-05}. Best is trial 67 with value: 120.81112670898438.\n",
            "[I 2024-04-18 06:44:04,738] Trial 93 finished with value: 120.87123107910156 and parameters: {'d_model': 256, 'nhead': 4, 'num_encoder_layers': 4, 'dropout_rate': 0.05803386189413397, 'lr': 2.687087343829538e-05}. Best is trial 67 with value: 120.81112670898438.\n",
            "[I 2024-04-18 06:44:13,394] Trial 94 finished with value: 120.82492065429688 and parameters: {'d_model': 256, 'nhead': 4, 'num_encoder_layers': 4, 'dropout_rate': 0.14183726714331701, 'lr': 2.2943689853223703e-05}. Best is trial 67 with value: 120.81112670898438.\n",
            "[I 2024-04-18 06:44:21,635] Trial 95 finished with value: 121.05765533447266 and parameters: {'d_model': 256, 'nhead': 4, 'num_encoder_layers': 4, 'dropout_rate': 0.046842250437617465, 'lr': 3.835142380162621e-05}. Best is trial 67 with value: 120.81112670898438.\n",
            "[I 2024-04-18 06:44:29,553] Trial 96 finished with value: 121.60700988769531 and parameters: {'d_model': 256, 'nhead': 4, 'num_encoder_layers': 4, 'dropout_rate': 0.08209468355076227, 'lr': 1.8465168868588e-05}. Best is trial 67 with value: 120.81112670898438.\n",
            "[I 2024-04-18 06:44:37,825] Trial 97 finished with value: 120.88058471679688 and parameters: {'d_model': 256, 'nhead': 4, 'num_encoder_layers': 4, 'dropout_rate': 0.00906738356729989, 'lr': 2.1959020987090423e-05}. Best is trial 67 with value: 120.81112670898438.\n",
            "[I 2024-04-18 06:44:43,039] Trial 98 finished with value: 126.76995849609375 and parameters: {'d_model': 128, 'nhead': 4, 'num_encoder_layers': 4, 'dropout_rate': 0.11273874949280333, 'lr': 3.139924067975767e-05}. Best is trial 67 with value: 120.81112670898438.\n",
            "[I 2024-04-18 06:44:51,810] Trial 99 finished with value: 121.13137817382812 and parameters: {'d_model': 256, 'nhead': 4, 'num_encoder_layers': 4, 'dropout_rate': 0.0002945926285271572, 'lr': 4.368722818410756e-05}. Best is trial 67 with value: 120.81112670898438.\n"
          ]
        },
        {
          "name": "stdout",
          "output_type": "stream",
          "text": [
            "Best trial:\n",
            "  Value: 120.81112670898438\n",
            "    d_model: 256\n",
            "    nhead: 4\n",
            "    num_encoder_layers: 4\n",
            "    dropout_rate: 0.07227862766031731\n",
            "    lr: 2.8100789220517466e-05\n"
          ]
        }
      ],
      "source": [
        "def train_model(trial, model, num_epochs, train_loader, val_loader, device):\n",
        "  criterion = nn.MSELoss()\n",
        "  optimizer = optim.Adam(model.parameters(), lr=trial.suggest_float('lr', 1e-6, 1e-3, log=True))\n",
        "\n",
        "  for epoch in range(num_epochs):\n",
        "    model.train()\n",
        "    total_train_loss = 0\n",
        "    for inputs, targets in train_loader:\n",
        "      inputs, targets = inputs.to(device).float(), targets.to(device).float()\n",
        "      optimizer.zero_grad()\n",
        "      outputs = model(inputs)\n",
        "      loss = criterion(outputs, targets)\n",
        "      loss.backward()\n",
        "      optimizer.step()\n",
        "      total_train_loss += loss.item()\n",
        "\n",
        "      model.eval()\n",
        "      total_val_loss = 0\n",
        "      with torch.no_grad():\n",
        "        for inputs, targets in val_loader:\n",
        "          inputs, targets = inputs.to(device).float(), targets.to(device).float()\n",
        "          outputs = model(inputs)\n",
        "          loss = criterion(outputs, targets)\n",
        "          total_val_loss += loss.item()\n",
        "\n",
        "  return total_val_loss / len(val_loader)\n",
        "\n",
        "def objective(trial):\n",
        "  input_size = 13\n",
        "  d_model = trial.suggest_categorical('d_model', [64, 128, 256])\n",
        "  nhead = trial.suggest_categorical('nhead', [4, 8])\n",
        "  num_encoder_layers = trial.suggest_int('num_encoder_layers', 1, 4)\n",
        "  dropout_rate = trial.suggest_uniform('dropout_rate', 0.0, 0.3)\n",
        "  output_size = 1\n",
        "\n",
        "  device = torch.device(\"cuda\" if torch.cuda.is_available() else \"cpu\")\n",
        "  model = WeatherPredictorTransformer(input_size, d_model, nhead, num_encoder_layers, output_size, dropout_rate)\n",
        "  model.to(device)\n",
        "\n",
        "  num_epochs = 50\n",
        "  return train_model(trial, model, num_epochs, train_loader, val_loader, device)\n",
        "\n",
        "study = optuna.create_study(direction='minimize')\n",
        "study.optimize(objective, n_trials=100)\n",
        "\n",
        "print(\"Best trial:\")\n",
        "trial = study.best_trial\n",
        "print(f\"  Value: {trial.value}\")\n",
        "for key, value in trial.params.items():\n",
        "  print(f\"    {key}: {value}\")"
      ]
    },
    {
      "cell_type": "code",
      "execution_count": 45,
      "metadata": {
        "colab": {
          "base_uri": "https://localhost:8080/",
          "height": 1000
        },
        "id": "LnOE9aYyBKpy",
        "outputId": "49042258-dec6-4e08-a37c-c2ba8e9567c3"
      },
      "outputs": [
        {
          "name": "stdout",
          "output_type": "stream",
          "text": [
            "Epoch [1/50], Training Loss: 217.4625, Validation Loss: 193.6057\n",
            "Epoch [2/50], Training Loss: 207.0442, Validation Loss: 185.0063\n",
            "Epoch [3/50], Training Loss: 197.1522, Validation Loss: 177.0500\n",
            "Epoch [4/50], Training Loss: 188.0728, Validation Loss: 169.7694\n",
            "Epoch [5/50], Training Loss: 179.5875, Validation Loss: 163.1774\n",
            "Epoch [6/50], Training Loss: 171.8390, Validation Loss: 157.2716\n",
            "Epoch [7/50], Training Loss: 164.8128, Validation Loss: 152.0427\n",
            "Epoch [8/50], Training Loss: 158.4566, Validation Loss: 147.4595\n",
            "Epoch [9/50], Training Loss: 152.8264, Validation Loss: 143.4843\n",
            "Epoch [10/50], Training Loss: 147.9325, Validation Loss: 140.0438\n",
            "Epoch [11/50], Training Loss: 143.4736, Validation Loss: 137.0694\n",
            "Epoch [12/50], Training Loss: 139.5380, Validation Loss: 134.5143\n",
            "Epoch [13/50], Training Loss: 136.2296, Validation Loss: 132.3301\n",
            "Epoch [14/50], Training Loss: 133.2255, Validation Loss: 130.4766\n",
            "Epoch [15/50], Training Loss: 130.6198, Validation Loss: 128.9012\n",
            "Epoch [16/50], Training Loss: 128.3654, Validation Loss: 127.5677\n",
            "Epoch [17/50], Training Loss: 126.4143, Validation Loss: 126.4387\n",
            "Epoch [18/50], Training Loss: 124.6701, Validation Loss: 125.4854\n",
            "Epoch [19/50], Training Loss: 123.1894, Validation Loss: 124.6829\n",
            "Epoch [20/50], Training Loss: 121.8680, Validation Loss: 124.0068\n",
            "Epoch [21/50], Training Loss: 120.7122, Validation Loss: 123.4370\n",
            "Epoch [22/50], Training Loss: 119.6791, Validation Loss: 122.9588\n",
            "Epoch [23/50], Training Loss: 118.8160, Validation Loss: 122.5589\n",
            "Epoch [24/50], Training Loss: 118.0207, Validation Loss: 122.2242\n",
            "Epoch [25/50], Training Loss: 117.3364, Validation Loss: 121.9452\n",
            "Epoch [26/50], Training Loss: 116.7336, Validation Loss: 121.7137\n",
            "Epoch [27/50], Training Loss: 116.1774, Validation Loss: 121.5221\n",
            "Epoch [28/50], Training Loss: 115.6975, Validation Loss: 121.3642\n",
            "Epoch [29/50], Training Loss: 115.2750, Validation Loss: 121.2352\n",
            "Epoch [30/50], Training Loss: 114.8750, Validation Loss: 121.1306\n",
            "Epoch [31/50], Training Loss: 114.5409, Validation Loss: 121.0465\n",
            "Epoch [32/50], Training Loss: 114.2382, Validation Loss: 120.9797\n",
            "Epoch [33/50], Training Loss: 113.9727, Validation Loss: 120.9274\n",
            "Epoch [34/50], Training Loss: 113.7228, Validation Loss: 120.8874\n",
            "Epoch [35/50], Training Loss: 113.5091, Validation Loss: 120.8576\n",
            "Epoch [36/50], Training Loss: 113.3182, Validation Loss: 120.8364\n",
            "Epoch [37/50], Training Loss: 113.1403, Validation Loss: 120.8224\n",
            "Epoch [38/50], Training Loss: 112.9825, Validation Loss: 120.8142\n",
            "Epoch [39/50], Training Loss: 112.8445, Validation Loss: 120.8108\n",
            "Epoch [40/50], Training Loss: 112.7130, Validation Loss: 120.8114\n",
            "Epoch [41/50], Training Loss: 112.6077, Validation Loss: 120.8151\n",
            "Epoch [42/50], Training Loss: 112.4914, Validation Loss: 120.8214\n",
            "Epoch [43/50], Training Loss: 112.4039, Validation Loss: 120.8296\n",
            "Epoch [44/50], Training Loss: 112.3155, Validation Loss: 120.8393\n",
            "Epoch [45/50], Training Loss: 112.2406, Validation Loss: 120.8502\n",
            "Epoch [46/50], Training Loss: 112.1674, Validation Loss: 120.8619\n",
            "Epoch [47/50], Training Loss: 112.1097, Validation Loss: 120.8741\n",
            "Epoch [48/50], Training Loss: 112.0544, Validation Loss: 120.8866\n",
            "Epoch [49/50], Training Loss: 111.9938, Validation Loss: 120.8993\n",
            "Epoch [50/50], Training Loss: 111.9505, Validation Loss: 120.9120\n"
          ]
        },
        {
          "data": {
            "image/png": "[encoded data removed]",
            "text/plain": [
              "<Figure size 800x600 with 1 Axes>"
            ]
          },
          "metadata": {},
          "output_type": "display_data"
        }
      ],
      "source": [
        "# Device configuration - using GPU if available\n",
        "device = torch.device('cuda' if torch.cuda.is_available() else 'cpu')\n",
        "\n",
        "learning_rate = 0.000028101\n",
        "num_epochs = 50\n",
        "\n",
        "input_size = 13\n",
        "d_model = 256\n",
        "nhead = 4\n",
        "num_encoder_layers = 4\n",
        "output_size = 1\n",
        "dropout_rate = 0.072279\n",
        "\n",
        "# Define your model, optimizer, and loss function\n",
        "model = WeatherPredictorTransformer(input_size, d_model, nhead, num_encoder_layers, output_size, dropout_rate)\n",
        "model.to(device)  # Move your model to the configured device\n",
        "optimizer = optim.Adam(model.parameters(), lr=learning_rate)\n",
        "criterion = nn.MSELoss()\n",
        "\n",
        "def train_model(model, num_epochs, optimizer, criterion, train_loader, val_loader):\n",
        "  train_losses = []\n",
        "  val_losses = []\n",
        "\n",
        "  for epoch in range(num_epochs):\n",
        "    model.train()\n",
        "    total_train_loss = 0\n",
        "\n",
        "    for inputs, targets in train_loader:\n",
        "      inputs, targets = inputs.to(device), targets.to(device)  # Move data to the device\n",
        "      inputs, targets = inputs.float(), targets.float()\n",
        "      optimizer.zero_grad()\n",
        "      outputs = model(inputs)\n",
        "      loss = criterion(outputs, targets)\n",
        "      loss.backward()\n",
        "      optimizer.step()\n",
        "      total_train_loss += loss.item()\n",
        "\n",
        "    avg_train_loss = total_train_loss / len(train_loader)\n",
        "    train_losses.append(avg_train_loss)\n",
        "\n",
        "    model.eval()\n",
        "    total_val_loss = 0\n",
        "    with torch.no_grad():\n",
        "      for inputs, targets in val_loader:\n",
        "        inputs, targets = inputs.to(device), targets.to(device)  # Move data to the device\n",
        "        inputs, targets = inputs.float(), targets.float()\n",
        "        outputs = model(inputs)\n",
        "        loss = criterion(outputs, targets)\n",
        "        total_val_loss += loss.item()\n",
        "\n",
        "    avg_val_loss = total_val_loss / len(val_loader)\n",
        "    val_losses.append(avg_val_loss)\n",
        "\n",
        "    print(f'Epoch [{epoch+1}/{num_epochs}], Training Loss: {avg_train_loss:.4f}, Validation Loss: {avg_val_loss:.4f}')\n",
        "\n",
        "  # Plotting\n",
        "  plt.figure(figsize=(8, 6))\n",
        "  plt.plot(range(1, num_epochs+1), train_losses, label='Training Loss')\n",
        "  plt.plot(range(1, num_epochs+1), val_losses, label='Validation Loss')\n",
        "  plt.title('Training and Validation Loss')\n",
        "  plt.xlabel('Epochs')\n",
        "  plt.ylabel('Loss')\n",
        "  plt.legend()\n",
        "  plt.grid(True)\n",
        "  plt.show()\n",
        "\n",
        "# Assuming you have defined train_loader and val_loader\n",
        "train_model(model, num_epochs, optimizer, criterion, train_loader, val_loader)"
      ]
    },
    {
      "cell_type": "code",
      "execution_count": 50,
      "metadata": {
        "colab": {
          "base_uri": "https://localhost:8080/"
        },
        "id": "9mWBz5ngDTC2",
        "outputId": "a04d9e58-8929-44bf-e2fd-e00b4d209c9d"
      },
      "outputs": [
        {
          "name": "stdout",
          "output_type": "stream",
          "text": [
            "Test Loss: 99.7224\n"
          ]
        }
      ],
      "source": [
        "def evaluate_model(model, criterion, data_loader, device):\n",
        "  model.eval()\n",
        "  total_loss = 0\n",
        "  with torch.no_grad():\n",
        "    for inputs, targets in data_loader:\n",
        "      inputs, targets = inputs.to(device).float(), targets.to(device).float()\n",
        "      outputs = model(inputs)\n",
        "      loss = criterion(outputs, targets)\n",
        "      total_loss += loss.item()\n",
        "  avg_loss = total_loss / len(data_loader)\n",
        "  return avg_loss\n",
        "\n",
        "device = torch.device('cuda' if torch.cuda.is_available() else 'cpu')\n",
        "model.to(device)\n",
        "\n",
        "test_loss = evaluate_model(model, criterion, test_loader, device)\n",
        "print(f'Test Loss: {test_loss:.4f}')"
      ]
    }
  ],
  "metadata": {
    "accelerator": "GPU",
    "colab": {
      "gpuType": "V100",
      "provenance": []
    },
    "kernelspec": {
      "display_name": "Python 3",
      "name": "python3"
    },
    "language_info": {
      "name": "python"
    }
  },
  "nbformat": 4,
  "nbformat_minor": 0
}
